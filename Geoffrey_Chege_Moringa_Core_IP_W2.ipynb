{
  "nbformat": 4,
  "nbformat_minor": 0,
  "metadata": {
    "colab": {
      "name": "Geoffrey_Chege_Moringa_Core_IP_W2.ipynb",
      "provenance": [],
      "toc_visible": true
    },
    "kernelspec": {
      "name": "python3",
      "display_name": "Python 3"
    },
    "language_info": {
      "name": "python"
    }
  },
  "cells": [
    {
      "cell_type": "markdown",
      "source": [
        "# 1.0 Defining the question"
      ],
      "metadata": {
        "id": "47dG4-cLMrY7"
      }
    },
    {
      "cell_type": "markdown",
      "source": [
        "## 1.1 Specifying the question"
      ],
      "metadata": {
        "id": "h53Ih5LbfzBi"
      }
    },
    {
      "cell_type": "code",
      "source": [
        "# Research question:\n",
        "# Predict which individuals are most likely to have or use a bank account.\n",
        "# Provide an indication of the state of the financial inclusion in kenya, Rwanda, Tanzania and Uganda\n",
        "# Provide insights into some of the key demographic factors that might drive individual's financial outcomes."
      ],
      "metadata": {
        "id": "1lT-NsC0gOLo"
      },
      "execution_count": null,
      "outputs": []
    },
    {
      "cell_type": "markdown",
      "source": [
        "## 1.2 Defining mertic for success"
      ],
      "metadata": {
        "id": "HzpodTDCgaHH"
      }
    },
    {
      "cell_type": "code",
      "source": [
        "# The following areas will be covered to achieve the objectives of the project:\n",
        "\n",
        "# Exploratory Data Analysis\n",
        "# Univariate, Bivariate and Multivariate analysis\n",
        "# Visualizations\n",
        "# Reduction techniques \n",
        "# Mutiple Regression model"
      ],
      "metadata": {
        "id": "xW9TWI2Pgnly"
      },
      "execution_count": null,
      "outputs": []
    },
    {
      "cell_type": "markdown",
      "source": [
        "## 1.3 Understanding the context"
      ],
      "metadata": {
        "id": "tasiOnTOg0GP"
      }
    },
    {
      "cell_type": "code",
      "source": [
        "# Despite the proliferation of mobile money in Africa and the growth of innovative fintech solutions, \n",
        "# banks still play a pivotal role in facilitating access to financial services. \n",
        "# Access to bank accounts enables households to save and facilitate payments while also helping businesses build up their credit-worthiness and \n",
        "# improve their access to other financial services. \n",
        "# Therefore, access to bank accounts is an essential contributor to long-term economic growth."
      ],
      "metadata": {
        "id": "GZpQ5vFyhEN4"
      },
      "execution_count": null,
      "outputs": []
    },
    {
      "cell_type": "markdown",
      "source": [
        "## 1.4 Recording the experimental design"
      ],
      "metadata": {
        "id": "eIx5w5LFh1Z5"
      }
    },
    {
      "cell_type": "code",
      "source": [
        "# To successfully conduct this project the following steps will be taken in order:\n",
        "\n",
        "# Conduct Exploratory Data Analysis\n",
        "# Univariate, Bivariate and Multivariate analysis\n",
        "# Create Visualizations\n",
        "# Apply Reduction techniques \n",
        "# Create a Mutiple Regression model for predictions\n",
        "# challenging the colution to find our if its the best for this for this particular scenario."
      ],
      "metadata": {
        "id": "Qz8QfxYNh1Dw"
      },
      "execution_count": null,
      "outputs": []
    },
    {
      "cell_type": "markdown",
      "source": [
        "## 1.5 Data Relevance"
      ],
      "metadata": {
        "id": "upvTtR-ziBQ7"
      }
    },
    {
      "cell_type": "code",
      "source": [
        "# The main dataset contains demographic information and what financial services are used by individuals across East Africa.\n",
        "# This data was extracted from various Finscope surveys ranging from 2016 to 2018, and more information about these surveys can be found here:\n",
        "# FinAccess Kenya 2018: https://fsdkenya.org/publication/finaccess2019/\n",
        "# Finscope Rwanda 2016: http://www.statistics.gov.rw/publication/finscope-rwanda-2016\n",
        "# Finscope Tanzania 2017:  http://www.fsdt.or.tz/finscope/\n",
        "# Finscope Uganda 2018: http://fsduganda.or.ug/finscope-2018-survey-report/ \n",
        "# Dataset Files:\n",
        "\n",
        "# Variable Definitions: http://bit.ly/VariableDefinitions \n",
        "# Dataset: http://bit.ly/FinancialDataset"
      ],
      "metadata": {
        "id": "SdLPPyIyiHK3"
      },
      "execution_count": null,
      "outputs": []
    },
    {
      "cell_type": "markdown",
      "source": [
        "# 2.0 Dataset"
      ],
      "metadata": {
        "id": "lAXChlGCF5xZ"
      }
    },
    {
      "cell_type": "markdown",
      "source": [
        "## 2.1 Importing Libraries"
      ],
      "metadata": {
        "id": "OVAJrGI_QE4K"
      }
    },
    {
      "cell_type": "code",
      "execution_count": 1,
      "metadata": {
        "id": "tz8JGMwILAO7"
      },
      "outputs": [],
      "source": [
        "# Importing Pandas\n",
        "# \n",
        "import pandas as pd"
      ]
    },
    {
      "cell_type": "code",
      "source": [
        "# Importing Numpy\n",
        "#\n",
        "import numpy as np"
      ],
      "metadata": {
        "id": "c8M7u4aqMPNk"
      },
      "execution_count": 2,
      "outputs": []
    },
    {
      "cell_type": "code",
      "source": [
        "# Importing Seaborn\n",
        "#\n",
        "import seaborn as sns"
      ],
      "metadata": {
        "id": "vb7j35FxMSkL"
      },
      "execution_count": 3,
      "outputs": []
    },
    {
      "cell_type": "code",
      "source": [
        "# Importing Matplotlib\n",
        "#\n",
        "import matplotlib.pyplot as plt"
      ],
      "metadata": {
        "id": "RIFMKvGVMVfQ"
      },
      "execution_count": 4,
      "outputs": []
    },
    {
      "cell_type": "markdown",
      "source": [
        "## 2.2 Loading the dataset"
      ],
      "metadata": {
        "id": "LwX2icjcQoRo"
      }
    },
    {
      "cell_type": "code",
      "source": [
        "finance = pd.read_csv(\"/content/Financial Dataset - 1.csv\")\n",
        "finance.head()"
      ],
      "metadata": {
        "colab": {
          "base_uri": "https://localhost:8080/",
          "height": 388
        },
        "id": "JrEs5gwtQt52",
        "outputId": "3c1c0a60-a578-4314-faec-a3da8460783d"
      },
      "execution_count": 5,
      "outputs": [
        {
          "output_type": "execute_result",
          "data": {
            "text/html": [
              "\n",
              "  <div id=\"df-8ac443f0-6c8f-4f70-9d22-d471c132d7ba\">\n",
              "    <div class=\"colab-df-container\">\n",
              "      <div>\n",
              "<style scoped>\n",
              "    .dataframe tbody tr th:only-of-type {\n",
              "        vertical-align: middle;\n",
              "    }\n",
              "\n",
              "    .dataframe tbody tr th {\n",
              "        vertical-align: top;\n",
              "    }\n",
              "\n",
              "    .dataframe thead th {\n",
              "        text-align: right;\n",
              "    }\n",
              "</style>\n",
              "<table border=\"1\" class=\"dataframe\">\n",
              "  <thead>\n",
              "    <tr style=\"text-align: right;\">\n",
              "      <th></th>\n",
              "      <th>country</th>\n",
              "      <th>year</th>\n",
              "      <th>uniqueid</th>\n",
              "      <th>Has a Bank account</th>\n",
              "      <th>Type of Location</th>\n",
              "      <th>Cell Phone Access</th>\n",
              "      <th>household_size</th>\n",
              "      <th>Respondent Age</th>\n",
              "      <th>gender_of_respondent</th>\n",
              "      <th>The relathip with head</th>\n",
              "      <th>marital_status</th>\n",
              "      <th>Level of Educuation</th>\n",
              "      <th>Type of Job</th>\n",
              "    </tr>\n",
              "  </thead>\n",
              "  <tbody>\n",
              "    <tr>\n",
              "      <th>0</th>\n",
              "      <td>Kenya</td>\n",
              "      <td>2018</td>\n",
              "      <td>uniqueid_1</td>\n",
              "      <td>Yes</td>\n",
              "      <td>Rural</td>\n",
              "      <td>Yes</td>\n",
              "      <td>3.0</td>\n",
              "      <td>24.0</td>\n",
              "      <td>Female</td>\n",
              "      <td>Spouse</td>\n",
              "      <td>Married/Living together</td>\n",
              "      <td>Secondary education</td>\n",
              "      <td>Self employed</td>\n",
              "    </tr>\n",
              "    <tr>\n",
              "      <th>1</th>\n",
              "      <td>Kenya</td>\n",
              "      <td>2018</td>\n",
              "      <td>uniqueid_2</td>\n",
              "      <td>No</td>\n",
              "      <td>Rural</td>\n",
              "      <td>No</td>\n",
              "      <td>5.0</td>\n",
              "      <td>70.0</td>\n",
              "      <td>Female</td>\n",
              "      <td>Head of Household</td>\n",
              "      <td>Widowed</td>\n",
              "      <td>No formal education</td>\n",
              "      <td>Government Dependent</td>\n",
              "    </tr>\n",
              "    <tr>\n",
              "      <th>2</th>\n",
              "      <td>Kenya</td>\n",
              "      <td>2018</td>\n",
              "      <td>uniqueid_3</td>\n",
              "      <td>Yes</td>\n",
              "      <td>Urban</td>\n",
              "      <td>Yes</td>\n",
              "      <td>5.0</td>\n",
              "      <td>26.0</td>\n",
              "      <td>Male</td>\n",
              "      <td>Other relative</td>\n",
              "      <td>Single/Never Married</td>\n",
              "      <td>Vocational/Specialised training</td>\n",
              "      <td>Self employed</td>\n",
              "    </tr>\n",
              "    <tr>\n",
              "      <th>3</th>\n",
              "      <td>Kenya</td>\n",
              "      <td>2018</td>\n",
              "      <td>uniqueid_4</td>\n",
              "      <td>No</td>\n",
              "      <td>Rural</td>\n",
              "      <td>Yes</td>\n",
              "      <td>5.0</td>\n",
              "      <td>34.0</td>\n",
              "      <td>Female</td>\n",
              "      <td>Head of Household</td>\n",
              "      <td>Married/Living together</td>\n",
              "      <td>Primary education</td>\n",
              "      <td>Formally employed Private</td>\n",
              "    </tr>\n",
              "    <tr>\n",
              "      <th>4</th>\n",
              "      <td>Kenya</td>\n",
              "      <td>2018</td>\n",
              "      <td>uniqueid_5</td>\n",
              "      <td>No</td>\n",
              "      <td>Urban</td>\n",
              "      <td>No</td>\n",
              "      <td>8.0</td>\n",
              "      <td>26.0</td>\n",
              "      <td>Male</td>\n",
              "      <td>Child</td>\n",
              "      <td>Single/Never Married</td>\n",
              "      <td>Primary education</td>\n",
              "      <td>Informally employed</td>\n",
              "    </tr>\n",
              "  </tbody>\n",
              "</table>\n",
              "</div>\n",
              "      <button class=\"colab-df-convert\" onclick=\"convertToInteractive('df-8ac443f0-6c8f-4f70-9d22-d471c132d7ba')\"\n",
              "              title=\"Convert this dataframe to an interactive table.\"\n",
              "              style=\"display:none;\">\n",
              "        \n",
              "  <svg xmlns=\"http://www.w3.org/2000/svg\" height=\"24px\"viewBox=\"0 0 24 24\"\n",
              "       width=\"24px\">\n",
              "    <path d=\"M0 0h24v24H0V0z\" fill=\"none\"/>\n",
              "    <path d=\"M18.56 5.44l.94 2.06.94-2.06 2.06-.94-2.06-.94-.94-2.06-.94 2.06-2.06.94zm-11 1L8.5 8.5l.94-2.06 2.06-.94-2.06-.94L8.5 2.5l-.94 2.06-2.06.94zm10 10l.94 2.06.94-2.06 2.06-.94-2.06-.94-.94-2.06-.94 2.06-2.06.94z\"/><path d=\"M17.41 7.96l-1.37-1.37c-.4-.4-.92-.59-1.43-.59-.52 0-1.04.2-1.43.59L10.3 9.45l-7.72 7.72c-.78.78-.78 2.05 0 2.83L4 21.41c.39.39.9.59 1.41.59.51 0 1.02-.2 1.41-.59l7.78-7.78 2.81-2.81c.8-.78.8-2.07 0-2.86zM5.41 20L4 18.59l7.72-7.72 1.47 1.35L5.41 20z\"/>\n",
              "  </svg>\n",
              "      </button>\n",
              "      \n",
              "  <style>\n",
              "    .colab-df-container {\n",
              "      display:flex;\n",
              "      flex-wrap:wrap;\n",
              "      gap: 12px;\n",
              "    }\n",
              "\n",
              "    .colab-df-convert {\n",
              "      background-color: #E8F0FE;\n",
              "      border: none;\n",
              "      border-radius: 50%;\n",
              "      cursor: pointer;\n",
              "      display: none;\n",
              "      fill: #1967D2;\n",
              "      height: 32px;\n",
              "      padding: 0 0 0 0;\n",
              "      width: 32px;\n",
              "    }\n",
              "\n",
              "    .colab-df-convert:hover {\n",
              "      background-color: #E2EBFA;\n",
              "      box-shadow: 0px 1px 2px rgba(60, 64, 67, 0.3), 0px 1px 3px 1px rgba(60, 64, 67, 0.15);\n",
              "      fill: #174EA6;\n",
              "    }\n",
              "\n",
              "    [theme=dark] .colab-df-convert {\n",
              "      background-color: #3B4455;\n",
              "      fill: #D2E3FC;\n",
              "    }\n",
              "\n",
              "    [theme=dark] .colab-df-convert:hover {\n",
              "      background-color: #434B5C;\n",
              "      box-shadow: 0px 1px 3px 1px rgba(0, 0, 0, 0.15);\n",
              "      filter: drop-shadow(0px 1px 2px rgba(0, 0, 0, 0.3));\n",
              "      fill: #FFFFFF;\n",
              "    }\n",
              "  </style>\n",
              "\n",
              "      <script>\n",
              "        const buttonEl =\n",
              "          document.querySelector('#df-8ac443f0-6c8f-4f70-9d22-d471c132d7ba button.colab-df-convert');\n",
              "        buttonEl.style.display =\n",
              "          google.colab.kernel.accessAllowed ? 'block' : 'none';\n",
              "\n",
              "        async function convertToInteractive(key) {\n",
              "          const element = document.querySelector('#df-8ac443f0-6c8f-4f70-9d22-d471c132d7ba');\n",
              "          const dataTable =\n",
              "            await google.colab.kernel.invokeFunction('convertToInteractive',\n",
              "                                                     [key], {});\n",
              "          if (!dataTable) return;\n",
              "\n",
              "          const docLinkHtml = 'Like what you see? Visit the ' +\n",
              "            '<a target=\"_blank\" href=https://colab.research.google.com/notebooks/data_table.ipynb>data table notebook</a>'\n",
              "            + ' to learn more about interactive tables.';\n",
              "          element.innerHTML = '';\n",
              "          dataTable['output_type'] = 'display_data';\n",
              "          await google.colab.output.renderOutput(dataTable, element);\n",
              "          const docLink = document.createElement('div');\n",
              "          docLink.innerHTML = docLinkHtml;\n",
              "          element.appendChild(docLink);\n",
              "        }\n",
              "      </script>\n",
              "    </div>\n",
              "  </div>\n",
              "  "
            ],
            "text/plain": [
              "  country  year  ...              Level of Educuation                Type of Job\n",
              "0   Kenya  2018  ...              Secondary education              Self employed\n",
              "1   Kenya  2018  ...              No formal education       Government Dependent\n",
              "2   Kenya  2018  ...  Vocational/Specialised training              Self employed\n",
              "3   Kenya  2018  ...                Primary education  Formally employed Private\n",
              "4   Kenya  2018  ...                Primary education        Informally employed\n",
              "\n",
              "[5 rows x 13 columns]"
            ]
          },
          "metadata": {},
          "execution_count": 5
        }
      ]
    },
    {
      "cell_type": "code",
      "source": [
        "# Checking if datatypes for each column are appropriate\n",
        "\n",
        "finance.dtypes"
      ],
      "metadata": {
        "colab": {
          "base_uri": "https://localhost:8080/"
        },
        "id": "98cg0OSwGI7_",
        "outputId": "e5e13e35-5b62-44e4-9669-834386c22b2f"
      },
      "execution_count": 6,
      "outputs": [
        {
          "output_type": "execute_result",
          "data": {
            "text/plain": [
              "country                    object\n",
              "year                        int64\n",
              "uniqueid                   object\n",
              "Has a Bank account         object\n",
              "Type of Location           object\n",
              "Cell Phone Access          object\n",
              "household_size            float64\n",
              "Respondent Age            float64\n",
              "gender_of_respondent       object\n",
              "The relathip with head     object\n",
              "marital_status             object\n",
              "Level of Educuation        object\n",
              "Type of Job                object\n",
              "dtype: object"
            ]
          },
          "metadata": {},
          "execution_count": 6
        }
      ]
    },
    {
      "cell_type": "code",
      "source": [
        "#Checking the columns\n",
        "\n",
        "finance.columns"
      ],
      "metadata": {
        "id": "xbtkGLKbH50n",
        "colab": {
          "base_uri": "https://localhost:8080/"
        },
        "outputId": "e6dd63f5-b389-40a0-92eb-72b6398b7ece"
      },
      "execution_count": 7,
      "outputs": [
        {
          "output_type": "execute_result",
          "data": {
            "text/plain": [
              "Index(['country', 'year', 'uniqueid', 'Has a Bank account', 'Type of Location',\n",
              "       'Cell Phone Access', 'household_size', 'Respondent Age',\n",
              "       'gender_of_respondent', 'The relathip with head', 'marital_status',\n",
              "       'Level of Educuation', 'Type of Job'],\n",
              "      dtype='object')"
            ]
          },
          "metadata": {},
          "execution_count": 7
        }
      ]
    },
    {
      "cell_type": "markdown",
      "source": [
        "# 3.0 Data Cleaning"
      ],
      "metadata": {
        "id": "ZqEX-9mZM0Bv"
      }
    },
    {
      "cell_type": "markdown",
      "source": [
        "## 3.1 Dropping Columns"
      ],
      "metadata": {
        "id": "JDG0ARr2NFS1"
      }
    },
    {
      "cell_type": "code",
      "source": [
        "#Dropping uniqueid column that is not needed for analysis\n",
        "\n",
        "finance = finance.drop(['uniqueid'], axis = 1)"
      ],
      "metadata": {
        "id": "hVTh9f_DNxxv"
      },
      "execution_count": 8,
      "outputs": []
    },
    {
      "cell_type": "markdown",
      "source": [
        "## 3.2 Messy column names"
      ],
      "metadata": {
        "id": "INeZRtZhOo3o"
      }
    },
    {
      "cell_type": "code",
      "source": [
        "#Setting column names to lower case and removing spaces\n",
        "\n",
        "finance.columns = finance.columns.str.lower().str.replace(\" \", \"_\")"
      ],
      "metadata": {
        "id": "Awr0iWCiOya1"
      },
      "execution_count": 9,
      "outputs": []
    },
    {
      "cell_type": "code",
      "source": [
        "finance.columns"
      ],
      "metadata": {
        "colab": {
          "base_uri": "https://localhost:8080/"
        },
        "id": "-BdnqYuiQJXG",
        "outputId": "ec74ec57-64ac-4281-a17b-071fc2562314"
      },
      "execution_count": 10,
      "outputs": [
        {
          "output_type": "execute_result",
          "data": {
            "text/plain": [
              "Index(['country', 'year', 'has_a_bank_account', 'type_of_location',\n",
              "       'cell_phone_access', 'household_size', 'respondent_age',\n",
              "       'gender_of_respondent', 'the_relathip_with_head', 'marital_status',\n",
              "       'level_of_educuation', 'type_of_job'],\n",
              "      dtype='object')"
            ]
          },
          "metadata": {},
          "execution_count": 10
        }
      ]
    },
    {
      "cell_type": "code",
      "source": [
        "#Correcting \"level_of_educuation\" and \"the_relathip_with_head\"\n",
        "\n",
        "finance.rename(columns={'the_relathip_with_head':'the_relationship_with_head'}, inplace=True)\n",
        "finance.rename(columns={'level_of_educuation':'level_of_education'}, inplace=True)"
      ],
      "metadata": {
        "id": "fSDH-kBkQMnO"
      },
      "execution_count": 11,
      "outputs": []
    },
    {
      "cell_type": "code",
      "source": [
        "#Confirming columns\n",
        "\n",
        "finance.columns"
      ],
      "metadata": {
        "colab": {
          "base_uri": "https://localhost:8080/"
        },
        "id": "hoBluYc7RHq9",
        "outputId": "e9601100-9d71-4a78-c43c-7a9a35888414"
      },
      "execution_count": 12,
      "outputs": [
        {
          "output_type": "execute_result",
          "data": {
            "text/plain": [
              "Index(['country', 'year', 'has_a_bank_account', 'type_of_location',\n",
              "       'cell_phone_access', 'household_size', 'respondent_age',\n",
              "       'gender_of_respondent', 'the_relationship_with_head', 'marital_status',\n",
              "       'level_of_education', 'type_of_job'],\n",
              "      dtype='object')"
            ]
          },
          "metadata": {},
          "execution_count": 12
        }
      ]
    },
    {
      "cell_type": "markdown",
      "source": [
        "## 3.3 Missing Values"
      ],
      "metadata": {
        "id": "A5oFpB2WRV_q"
      }
    },
    {
      "cell_type": "code",
      "source": [
        "#Check missing values per column\n",
        "\n",
        "finance.isnull().sum()"
      ],
      "metadata": {
        "colab": {
          "base_uri": "https://localhost:8080/"
        },
        "id": "fJHjpGj7Ra8b",
        "outputId": "5a66db1f-12f5-4b9c-fc1c-2f2965bd6aa2"
      },
      "execution_count": 13,
      "outputs": [
        {
          "output_type": "execute_result",
          "data": {
            "text/plain": [
              "country                       14\n",
              "year                           0\n",
              "has_a_bank_account            36\n",
              "type_of_location              15\n",
              "cell_phone_access             11\n",
              "household_size                28\n",
              "respondent_age                34\n",
              "gender_of_respondent          34\n",
              "the_relationship_with_head     4\n",
              "marital_status                32\n",
              "level_of_education            29\n",
              "type_of_job                   30\n",
              "dtype: int64"
            ]
          },
          "metadata": {},
          "execution_count": 13
        }
      ]
    },
    {
      "cell_type": "code",
      "source": [
        "#Dropping the null values\n",
        "\n",
        "finance.dropna(inplace=True)"
      ],
      "metadata": {
        "id": "XZPxvth8Rkyj"
      },
      "execution_count": 14,
      "outputs": []
    },
    {
      "cell_type": "code",
      "source": [
        "#Confirm that there are no missing values\n",
        "\n",
        "finance.isnull().sum()"
      ],
      "metadata": {
        "colab": {
          "base_uri": "https://localhost:8080/"
        },
        "id": "OENhSxs9RtCM",
        "outputId": "dbd8f06e-8a3e-4f33-aa16-452f566ab57e"
      },
      "execution_count": 15,
      "outputs": [
        {
          "output_type": "execute_result",
          "data": {
            "text/plain": [
              "country                       0\n",
              "year                          0\n",
              "has_a_bank_account            0\n",
              "type_of_location              0\n",
              "cell_phone_access             0\n",
              "household_size                0\n",
              "respondent_age                0\n",
              "gender_of_respondent          0\n",
              "the_relationship_with_head    0\n",
              "marital_status                0\n",
              "level_of_education            0\n",
              "type_of_job                   0\n",
              "dtype: int64"
            ]
          },
          "metadata": {},
          "execution_count": 15
        }
      ]
    },
    {
      "cell_type": "markdown",
      "source": [
        "## 3.4 Checking for outliers"
      ],
      "metadata": {
        "id": "k58LRi2-R69p"
      }
    },
    {
      "cell_type": "code",
      "source": [
        "#The columns of household_size of respondent_age need to be checked for outliers\n",
        "#A boxplot will be used to check for any outliers\n",
        "\n",
        "plt.figure(dpi = 125)\n",
        "finance.boxplot(['household_size'])\n",
        "plt.title(\"A boxplot showing household size\")\n",
        "plt.show"
      ],
      "metadata": {
        "colab": {
          "base_uri": "https://localhost:8080/",
          "height": 493
        },
        "id": "n-2zN8ZISsK3",
        "outputId": "cb74e67a-96dd-4bce-8988-6fcd50227c67"
      },
      "execution_count": 16,
      "outputs": [
        {
          "output_type": "execute_result",
          "data": {
            "text/plain": [
              "<function matplotlib.pyplot.show>"
            ]
          },
          "metadata": {},
          "execution_count": 16
        },
        {
          "output_type": "display_data",
          "data": {
            "image/png": "[encoded data removed]",
            "text/plain": [
              "<Figure size 750x500 with 1 Axes>"
            ]
          },
          "metadata": {
            "needs_background": "light"
          }
        }
      ]
    },
    {
      "cell_type": "code",
      "source": [
        "plt.figure(dpi = 125)\n",
        "finance.boxplot(['respondent_age'])\n",
        "plt.title(\"A boxplot showing respondent ages\")\n",
        "plt.show"
      ],
      "metadata": {
        "colab": {
          "base_uri": "https://localhost:8080/",
          "height": 493
        },
        "id": "2Kp8pi4sUkh8",
        "outputId": "42119d56-a91b-4078-d241-b7f74faf5eff"
      },
      "execution_count": 17,
      "outputs": [
        {
          "output_type": "execute_result",
          "data": {
            "text/plain": [
              "<function matplotlib.pyplot.show>"
            ]
          },
          "metadata": {},
          "execution_count": 17
        },
        {
          "output_type": "display_data",
          "data": {
            "image/png": "[encoded data removed]",
            "text/plain": [
              "<Figure size 750x500 with 1 Axes>"
            ]
          },
          "metadata": {
            "needs_background": "light"
          }
        }
      ]
    },
    {
      "cell_type": "markdown",
      "source": [
        "# 4.0 Exploratory Data Analysis"
      ],
      "metadata": {
        "id": "xU6WjP4OVvtK"
      }
    },
    {
      "cell_type": "markdown",
      "source": [
        "## 4.1 Univariate Analysis"
      ],
      "metadata": {
        "id": "pxfLnDaBWg3g"
      }
    },
    {
      "cell_type": "markdown",
      "source": [
        "### 4.1.1 Visualization"
      ],
      "metadata": {
        "id": "qmmICnyMWo6D"
      }
    },
    {
      "cell_type": "markdown",
      "source": [
        "#### 4.1.1 (a) Pie Charts"
      ],
      "metadata": {
        "id": "jmdyUFRZWvJI"
      }
    },
    {
      "cell_type": "code",
      "source": [
        "# A pie chart representing those with a bank account and those without\n",
        "#First, we group the data\n",
        "\n",
        "bank = finance.has_a_bank_account\n",
        "bank\n",
        "\n",
        "data = bank.values\n",
        "data\n",
        "\n",
        "size = bank.index\n",
        "size\n",
        "\n",
        "explode=(0.1, 0, 0, 0)\n",
        "\n",
        "plt.figure(figsize = (6,6), dpi = 125)\n",
        "plt.pie(data, labels = size, autopct='%1.1f%%', shadow=True, startangle = 90)\n",
        "plt.axis('equal')\n",
        "plt.title('A pie chart representing those with a bank account and those without.')\n",
        "plt.show"
      ],
      "metadata": {
        "colab": {
          "base_uri": "https://localhost:8080/",
          "height": 1000
        },
        "id": "XCmAA9HUXBu3",
        "outputId": "cd2f7c40-dddc-492b-e5cc-0f0aca177c06"
      },
      "execution_count": 18,
      "outputs": [
        {
          "output_type": "error",
          "ename": "ValueError",
          "evalue": "ignored",
          "traceback": [
            "\u001b[0;31m---------------------------------------------------------------------------\u001b[0m",
            "\u001b[0;31mValueError\u001b[0m                                Traceback (most recent call last)",
            "\u001b[0;32m<ipython-input-18-e0410e3555d5>\u001b[0m in \u001b[0;36m<module>\u001b[0;34m()\u001b[0m\n\u001b[1;32m     14\u001b[0m \u001b[0;34m\u001b[0m\u001b[0m\n\u001b[1;32m     15\u001b[0m \u001b[0mplt\u001b[0m\u001b[0;34m.\u001b[0m\u001b[0mfigure\u001b[0m\u001b[0;34m(\u001b[0m\u001b[0mfigsize\u001b[0m \u001b[0;34m=\u001b[0m \u001b[0;34m(\u001b[0m\u001b[0;36m6\u001b[0m\u001b[0;34m,\u001b[0m\u001b[0;36m6\u001b[0m\u001b[0;34m)\u001b[0m\u001b[0;34m,\u001b[0m \u001b[0mdpi\u001b[0m \u001b[0;34m=\u001b[0m \u001b[0;36m125\u001b[0m\u001b[0;34m)\u001b[0m\u001b[0;34m\u001b[0m\u001b[0;34m\u001b[0m\u001b[0m\n\u001b[0;32m---> 16\u001b[0;31m \u001b[0mplt\u001b[0m\u001b[0;34m.\u001b[0m\u001b[0mpie\u001b[0m\u001b[0;34m(\u001b[0m\u001b[0mdata\u001b[0m\u001b[0;34m,\u001b[0m \u001b[0mlabels\u001b[0m \u001b[0;34m=\u001b[0m \u001b[0msize\u001b[0m\u001b[0;34m,\u001b[0m \u001b[0mautopct\u001b[0m\u001b[0;34m=\u001b[0m\u001b[0;34m'%1.1f%%'\u001b[0m\u001b[0;34m,\u001b[0m \u001b[0mshadow\u001b[0m\u001b[0;34m=\u001b[0m\u001b[0;32mTrue\u001b[0m\u001b[0;34m,\u001b[0m \u001b[0mstartangle\u001b[0m \u001b[0;34m=\u001b[0m \u001b[0;36m90\u001b[0m\u001b[0;34m)\u001b[0m\u001b[0;34m\u001b[0m\u001b[0;34m\u001b[0m\u001b[0m\n\u001b[0m\u001b[1;32m     17\u001b[0m \u001b[0mplt\u001b[0m\u001b[0;34m.\u001b[0m\u001b[0maxis\u001b[0m\u001b[0;34m(\u001b[0m\u001b[0;34m'equal'\u001b[0m\u001b[0;34m)\u001b[0m\u001b[0;34m\u001b[0m\u001b[0;34m\u001b[0m\u001b[0m\n\u001b[1;32m     18\u001b[0m \u001b[0mplt\u001b[0m\u001b[0;34m.\u001b[0m\u001b[0mtitle\u001b[0m\u001b[0;34m(\u001b[0m\u001b[0;34m'A pie chart representing those with a bank account and those without.'\u001b[0m\u001b[0;34m)\u001b[0m\u001b[0;34m\u001b[0m\u001b[0;34m\u001b[0m\u001b[0m\n",
            "\u001b[0;32m/usr/local/lib/python3.7/dist-packages/matplotlib/pyplot.py\u001b[0m in \u001b[0;36mpie\u001b[0;34m(x, explode, labels, colors, autopct, pctdistance, shadow, labeldistance, startangle, radius, counterclock, wedgeprops, textprops, center, frame, rotatelabels, data)\u001b[0m\n\u001b[1;32m   2753\u001b[0m         \u001b[0mwedgeprops\u001b[0m\u001b[0;34m=\u001b[0m\u001b[0mwedgeprops\u001b[0m\u001b[0;34m,\u001b[0m \u001b[0mtextprops\u001b[0m\u001b[0;34m=\u001b[0m\u001b[0mtextprops\u001b[0m\u001b[0;34m,\u001b[0m \u001b[0mcenter\u001b[0m\u001b[0;34m=\u001b[0m\u001b[0mcenter\u001b[0m\u001b[0;34m,\u001b[0m\u001b[0;34m\u001b[0m\u001b[0;34m\u001b[0m\u001b[0m\n\u001b[1;32m   2754\u001b[0m         frame=frame, rotatelabels=rotatelabels, **({\"data\": data} if\n\u001b[0;32m-> 2755\u001b[0;31m         data is not None else {}))\n\u001b[0m\u001b[1;32m   2756\u001b[0m \u001b[0;34m\u001b[0m\u001b[0m\n\u001b[1;32m   2757\u001b[0m \u001b[0;34m\u001b[0m\u001b[0m\n",
            "\u001b[0;32m/usr/local/lib/python3.7/dist-packages/matplotlib/__init__.py\u001b[0m in \u001b[0;36minner\u001b[0;34m(ax, data, *args, **kwargs)\u001b[0m\n\u001b[1;32m   1563\u001b[0m     \u001b[0;32mdef\u001b[0m \u001b[0minner\u001b[0m\u001b[0;34m(\u001b[0m\u001b[0max\u001b[0m\u001b[0;34m,\u001b[0m \u001b[0;34m*\u001b[0m\u001b[0margs\u001b[0m\u001b[0;34m,\u001b[0m \u001b[0mdata\u001b[0m\u001b[0;34m=\u001b[0m\u001b[0;32mNone\u001b[0m\u001b[0;34m,\u001b[0m \u001b[0;34m**\u001b[0m\u001b[0mkwargs\u001b[0m\u001b[0;34m)\u001b[0m\u001b[0;34m:\u001b[0m\u001b[0;34m\u001b[0m\u001b[0;34m\u001b[0m\u001b[0m\n\u001b[1;32m   1564\u001b[0m         \u001b[0;32mif\u001b[0m \u001b[0mdata\u001b[0m \u001b[0;32mis\u001b[0m \u001b[0;32mNone\u001b[0m\u001b[0;34m:\u001b[0m\u001b[0;34m\u001b[0m\u001b[0;34m\u001b[0m\u001b[0m\n\u001b[0;32m-> 1565\u001b[0;31m             \u001b[0;32mreturn\u001b[0m \u001b[0mfunc\u001b[0m\u001b[0;34m(\u001b[0m\u001b[0max\u001b[0m\u001b[0;34m,\u001b[0m \u001b[0;34m*\u001b[0m\u001b[0mmap\u001b[0m\u001b[0;34m(\u001b[0m\u001b[0msanitize_sequence\u001b[0m\u001b[0;34m,\u001b[0m \u001b[0margs\u001b[0m\u001b[0;34m)\u001b[0m\u001b[0;34m,\u001b[0m \u001b[0;34m**\u001b[0m\u001b[0mkwargs\u001b[0m\u001b[0;34m)\u001b[0m\u001b[0;34m\u001b[0m\u001b[0;34m\u001b[0m\u001b[0m\n\u001b[0m\u001b[1;32m   1566\u001b[0m \u001b[0;34m\u001b[0m\u001b[0m\n\u001b[1;32m   1567\u001b[0m         \u001b[0mbound\u001b[0m \u001b[0;34m=\u001b[0m \u001b[0mnew_sig\u001b[0m\u001b[0;34m.\u001b[0m\u001b[0mbind\u001b[0m\u001b[0;34m(\u001b[0m\u001b[0max\u001b[0m\u001b[0;34m,\u001b[0m \u001b[0;34m*\u001b[0m\u001b[0margs\u001b[0m\u001b[0;34m,\u001b[0m \u001b[0;34m**\u001b[0m\u001b[0mkwargs\u001b[0m\u001b[0;34m)\u001b[0m\u001b[0;34m\u001b[0m\u001b[0;34m\u001b[0m\u001b[0m\n",
            "\u001b[0;32m/usr/local/lib/python3.7/dist-packages/matplotlib/axes/_axes.py\u001b[0m in \u001b[0;36mpie\u001b[0;34m(self, x, explode, labels, colors, autopct, pctdistance, shadow, labeldistance, startangle, radius, counterclock, wedgeprops, textprops, center, frame, rotatelabels)\u001b[0m\n\u001b[1;32m   2910\u001b[0m         \u001b[0;31m# The use of float32 is \"historical\", but can't be changed without\u001b[0m\u001b[0;34m\u001b[0m\u001b[0;34m\u001b[0m\u001b[0;34m\u001b[0m\u001b[0m\n\u001b[1;32m   2911\u001b[0m         \u001b[0;31m# regenerating the test baselines.\u001b[0m\u001b[0;34m\u001b[0m\u001b[0;34m\u001b[0m\u001b[0;34m\u001b[0m\u001b[0m\n\u001b[0;32m-> 2912\u001b[0;31m         \u001b[0mx\u001b[0m \u001b[0;34m=\u001b[0m \u001b[0mnp\u001b[0m\u001b[0;34m.\u001b[0m\u001b[0masarray\u001b[0m\u001b[0;34m(\u001b[0m\u001b[0mx\u001b[0m\u001b[0;34m,\u001b[0m \u001b[0mnp\u001b[0m\u001b[0;34m.\u001b[0m\u001b[0mfloat32\u001b[0m\u001b[0;34m)\u001b[0m\u001b[0;34m\u001b[0m\u001b[0;34m\u001b[0m\u001b[0m\n\u001b[0m\u001b[1;32m   2913\u001b[0m         \u001b[0;32mif\u001b[0m \u001b[0mx\u001b[0m\u001b[0;34m.\u001b[0m\u001b[0mndim\u001b[0m \u001b[0;34m!=\u001b[0m \u001b[0;36m1\u001b[0m \u001b[0;32mand\u001b[0m \u001b[0mx\u001b[0m\u001b[0;34m.\u001b[0m\u001b[0msqueeze\u001b[0m\u001b[0;34m(\u001b[0m\u001b[0;34m)\u001b[0m\u001b[0;34m.\u001b[0m\u001b[0mndim\u001b[0m \u001b[0;34m<=\u001b[0m \u001b[0;36m1\u001b[0m\u001b[0;34m:\u001b[0m\u001b[0;34m\u001b[0m\u001b[0;34m\u001b[0m\u001b[0m\n\u001b[1;32m   2914\u001b[0m             cbook.warn_deprecated(\n",
            "\u001b[0;32m/usr/local/lib/python3.7/dist-packages/numpy/core/_asarray.py\u001b[0m in \u001b[0;36masarray\u001b[0;34m(a, dtype, order)\u001b[0m\n\u001b[1;32m     81\u001b[0m \u001b[0;34m\u001b[0m\u001b[0m\n\u001b[1;32m     82\u001b[0m     \"\"\"\n\u001b[0;32m---> 83\u001b[0;31m     \u001b[0;32mreturn\u001b[0m \u001b[0marray\u001b[0m\u001b[0;34m(\u001b[0m\u001b[0ma\u001b[0m\u001b[0;34m,\u001b[0m \u001b[0mdtype\u001b[0m\u001b[0;34m,\u001b[0m \u001b[0mcopy\u001b[0m\u001b[0;34m=\u001b[0m\u001b[0;32mFalse\u001b[0m\u001b[0;34m,\u001b[0m \u001b[0morder\u001b[0m\u001b[0;34m=\u001b[0m\u001b[0morder\u001b[0m\u001b[0;34m)\u001b[0m\u001b[0;34m\u001b[0m\u001b[0;34m\u001b[0m\u001b[0m\n\u001b[0m\u001b[1;32m     84\u001b[0m \u001b[0;34m\u001b[0m\u001b[0m\n\u001b[1;32m     85\u001b[0m \u001b[0;34m\u001b[0m\u001b[0m\n",
            "\u001b[0;31mValueError\u001b[0m: could not convert string to float: 'Yes'"
          ]
        },
        {
          "output_type": "display_data",
          "data": {
            "image/png": "[encoded data removed]",
            "text/plain": [
              "<Figure size 750x750 with 1 Axes>"
            ]
          },
          "metadata": {
            "needs_background": "light"
          }
        }
      ]
    },
    {
      "cell_type": "code",
      "source": [
        "# A pie chart representing the types of jobs\n",
        "#grouping the data\n",
        "\n",
        "job = finance.type_of_job.value_counts()\n",
        "job\n",
        "\n",
        "size2 = job.index\n",
        "size\n",
        "\n",
        "data2 = job.values\n",
        "data2\n",
        "\n",
        "explode=(0.1, 0, 0, 0)\n",
        "\n",
        "plt.figure(figsize = (10,10), dpi = 125)\n",
        "plt.pie(data2, labels = size2, autopct='%1.1f%%', shadow=True, startangle = 90)\n",
        "plt.axis('equal')\n",
        "\n",
        "#Giving a title to our chart\n",
        "plt.title('A pie chart representing the types of jobs respondents have.')\n",
        "\n",
        "#Displaying our chart\n",
        "plt.show\n",
        "\n",
        "# The chart shows that the most common jobs were self employment, informal employment\n",
        "# and Farming and Fishing"
      ],
      "metadata": {
        "colab": {
          "base_uri": "https://localhost:8080/",
          "height": 1000
        },
        "id": "F6MNCxFIQPot",
        "outputId": "b396d592-96e1-4fec-d946-5360ef22d503"
      },
      "execution_count": 19,
      "outputs": [
        {
          "output_type": "execute_result",
          "data": {
            "text/plain": [
              "<function matplotlib.pyplot.show>"
            ]
          },
          "metadata": {},
          "execution_count": 19
        },
        {
          "output_type": "display_data",
          "data": {
            "image/png": "[encoded data removed]",
            "text/plain": [
              "<Figure size 1250x1250 with 1 Axes>"
            ]
          },
          "metadata": {}
        }
      ]
    },
    {
      "cell_type": "markdown",
      "source": [
        "#### 4.1.1 (b) Bar Graphs"
      ],
      "metadata": {
        "id": "dwqG_Nryc0a6"
      }
    },
    {
      "cell_type": "code",
      "source": [
        "# A bar graph of the respondents' country \n",
        "\n",
        "# specifying our chart size\n",
        "plt.figure(dpi = 100)\n",
        "sns.set_style('darkgrid')\n",
        "sns.countplot(finance.country)\n",
        "\n",
        "# Giving a title to our chart\n",
        "plt.title('A bar Plot of the number of Respondents by Country', color = 'magenta')\n",
        "\n",
        "# Displaying our chart\n",
        "plt.show()\n",
        "\n",
        "\n",
        "# The bar chart shows that most respondents were from Rwanda \n",
        "# The least number of respondents were from Uganda"
      ],
      "metadata": {
        "colab": {
          "base_uri": "https://localhost:8080/",
          "height": 458
        },
        "id": "aGgDh2ynabDM",
        "outputId": "6c052f05-a1b8-4c76-97ad-39bc690c7a2a"
      },
      "execution_count": 20,
      "outputs": [
        {
          "output_type": "stream",
          "name": "stderr",
          "text": [
            "/usr/local/lib/python3.7/dist-packages/seaborn/_decorators.py:43: FutureWarning: Pass the following variable as a keyword arg: x. From version 0.12, the only valid positional argument will be `data`, and passing other arguments without an explicit keyword will result in an error or misinterpretation.\n",
            "  FutureWarning\n"
          ]
        },
        {
          "output_type": "display_data",
          "data": {
            "image/png": "[encoded data removed]",
            "text/plain": [
              "<Figure size 600x400 with 1 Axes>"
            ]
          },
          "metadata": {
            "needs_background": "light"
          }
        }
      ]
    },
    {
      "cell_type": "code",
      "source": [
        "# A horizontal bar chart of the respondents' highest level of education \n",
        "\n",
        "# grouping the data to be plotted\n",
        "study = finance.level_of_education.value_counts()\n",
        "study\n",
        "\n",
        "# accessing the data to plot\n",
        "\n",
        "# labels\n",
        "size3= study.index\n",
        "size3\n",
        "\n",
        "# values\n",
        "data3 = study.values\n",
        "data3\n",
        "\n",
        "# specifying our chart size\n",
        "plt.figure(figsize = (8,8), dpi = 125)\n",
        "plt.barh(size3, data3, color = 'red')\n",
        "\n",
        "# labeling the y axis\n",
        "plt.ylabel(\"Highest level of education\")\n",
        "\n",
        "# labeling the x axis\n",
        "plt.xlabel('Frequency')\n",
        "\n",
        "# Giving a title to our chart\n",
        "plt.title(\"A bar chart of respondents level of education\", color = 'black')\n",
        "\n",
        "# Displaying our chart\n",
        "plt.show()\n",
        "\n",
        "\n",
        "# most respondents' highest level of education was the primary school\n",
        "# there are other categories with the least number (others and 6)\n",
        "# the 6 category seems to be an anomaly."
      ],
      "metadata": {
        "colab": {
          "base_uri": "https://localhost:8080/",
          "height": 877
        },
        "id": "OQDuQtaEdjTF",
        "outputId": "3679be18-9fa2-449c-f7d8-079a7bbc114a"
      },
      "execution_count": 21,
      "outputs": [
        {
          "output_type": "display_data",
          "data": {
            "image/png": "[encoded data removed]",
            "text/plain": [
              "<Figure size 1000x1000 with 1 Axes>"
            ]
          },
          "metadata": {}
        }
      ]
    },
    {
      "cell_type": "markdown",
      "source": [
        "#### 4.1.1 (c) Histograms"
      ],
      "metadata": {
        "id": "tjG-YDiNgJYa"
      }
    },
    {
      "cell_type": "code",
      "source": [
        "# Histogram of respondent age\n",
        "\n",
        "plt.figure(dpi = 125)\n",
        "sns.set_style('darkgrid')\n",
        "sns.distplot(finance['respondent_age'], kde = False, color = 'green')  \n",
        "\n",
        "# Giving a title to our chart\n",
        "plt.title('A Histogram of respondent age', color = 'black')\n",
        "\n",
        "# labeling the y axis\n",
        "plt.ylabel('Frequency')\n",
        "\n",
        "# Displaying our chart\n",
        "plt.show()\n",
        "\n",
        "\n",
        "# The age distribution is skewed to the right\n",
        "# This is because the tail is long to the right side"
      ],
      "metadata": {
        "colab": {
          "base_uri": "https://localhost:8080/",
          "height": 556
        },
        "id": "-xTKnB3vgQhz",
        "outputId": "6967e256-ed18-49f6-8f49-e5cff22642d0"
      },
      "execution_count": 22,
      "outputs": [
        {
          "output_type": "stream",
          "name": "stderr",
          "text": [
            "/usr/local/lib/python3.7/dist-packages/seaborn/distributions.py:2619: FutureWarning: `distplot` is a deprecated function and will be removed in a future version. Please adapt your code to use either `displot` (a figure-level function with similar flexibility) or `histplot` (an axes-level function for histograms).\n",
            "  warnings.warn(msg, FutureWarning)\n"
          ]
        },
        {
          "output_type": "display_data",
          "data": {
            "image/png": "[encoded data removed]",
            "text/plain": [
              "<Figure size 750x500 with 1 Axes>"
            ]
          },
          "metadata": {}
        }
      ]
    },
    {
      "cell_type": "code",
      "source": [
        "# Histogram of respondents' household size\n",
        "\n",
        "plt.figure(dpi = 125)\n",
        "plt.hist(finance['household_size'], bins = 10, histtype= 'bar', color = 'green')\n",
        "\n",
        "# Giving a title to our chart\n",
        "plt.title('A Histogram of respondents house size', color = 'black')\n",
        "\n",
        "# labeling x axis\n",
        "plt.xlabel('Household Size')\n",
        "\n",
        "# labeling y axis\n",
        "plt.ylabel('Frequency')\n",
        "\n",
        "# Displaying our chart\n",
        "plt.show()\n",
        "\n",
        "\n",
        "# The age distribution is skewed to the right\n",
        "# This is because the tail is long to the right side"
      ],
      "metadata": {
        "colab": {
          "base_uri": "https://localhost:8080/",
          "height": 501
        },
        "id": "k6hkKxAMhMC0",
        "outputId": "8f9554f1-b6f4-49ec-ff99-6abcb849df3d"
      },
      "execution_count": 23,
      "outputs": [
        {
          "output_type": "display_data",
          "data": {
            "image/png": "[encoded data removed]",
            "text/plain": [
              "<Figure size 750x500 with 1 Axes>"
            ]
          },
          "metadata": {}
        }
      ]
    },
    {
      "cell_type": "markdown",
      "source": [
        "#### 4.1.1 (d) Frequency Tables"
      ],
      "metadata": {
        "id": "f_zI1n95i6jt"
      }
    },
    {
      "cell_type": "code",
      "source": [
        "# Frequency ttable of cell_phone_access and value counts\n",
        "\n",
        "phone = pd.crosstab(index= finance['cell_phone_access'], columns= 'count')\n",
        "phone"
      ],
      "metadata": {
        "colab": {
          "base_uri": "https://localhost:8080/",
          "height": 143
        },
        "id": "md1Sx6e2i_uE",
        "outputId": "470ef6be-cd2b-458a-b9ed-da5321eeb9d3"
      },
      "execution_count": 24,
      "outputs": [
        {
          "output_type": "execute_result",
          "data": {
            "text/html": [
              "\n",
              "  <div id=\"df-303c127c-3010-442e-bfb7-f91e49ed34fd\">\n",
              "    <div class=\"colab-df-container\">\n",
              "      <div>\n",
              "<style scoped>\n",
              "    .dataframe tbody tr th:only-of-type {\n",
              "        vertical-align: middle;\n",
              "    }\n",
              "\n",
              "    .dataframe tbody tr th {\n",
              "        vertical-align: top;\n",
              "    }\n",
              "\n",
              "    .dataframe thead th {\n",
              "        text-align: right;\n",
              "    }\n",
              "</style>\n",
              "<table border=\"1\" class=\"dataframe\">\n",
              "  <thead>\n",
              "    <tr style=\"text-align: right;\">\n",
              "      <th>col_0</th>\n",
              "      <th>count</th>\n",
              "    </tr>\n",
              "    <tr>\n",
              "      <th>cell_phone_access</th>\n",
              "      <th></th>\n",
              "    </tr>\n",
              "  </thead>\n",
              "  <tbody>\n",
              "    <tr>\n",
              "      <th>No</th>\n",
              "      <td>6009</td>\n",
              "    </tr>\n",
              "    <tr>\n",
              "      <th>Yes</th>\n",
              "      <td>17334</td>\n",
              "    </tr>\n",
              "  </tbody>\n",
              "</table>\n",
              "</div>\n",
              "      <button class=\"colab-df-convert\" onclick=\"convertToInteractive('df-303c127c-3010-442e-bfb7-f91e49ed34fd')\"\n",
              "              title=\"Convert this dataframe to an interactive table.\"\n",
              "              style=\"display:none;\">\n",
              "        \n",
              "  <svg xmlns=\"http://www.w3.org/2000/svg\" height=\"24px\"viewBox=\"0 0 24 24\"\n",
              "       width=\"24px\">\n",
              "    <path d=\"M0 0h24v24H0V0z\" fill=\"none\"/>\n",
              "    <path d=\"M18.56 5.44l.94 2.06.94-2.06 2.06-.94-2.06-.94-.94-2.06-.94 2.06-2.06.94zm-11 1L8.5 8.5l.94-2.06 2.06-.94-2.06-.94L8.5 2.5l-.94 2.06-2.06.94zm10 10l.94 2.06.94-2.06 2.06-.94-2.06-.94-.94-2.06-.94 2.06-2.06.94z\"/><path d=\"M17.41 7.96l-1.37-1.37c-.4-.4-.92-.59-1.43-.59-.52 0-1.04.2-1.43.59L10.3 9.45l-7.72 7.72c-.78.78-.78 2.05 0 2.83L4 21.41c.39.39.9.59 1.41.59.51 0 1.02-.2 1.41-.59l7.78-7.78 2.81-2.81c.8-.78.8-2.07 0-2.86zM5.41 20L4 18.59l7.72-7.72 1.47 1.35L5.41 20z\"/>\n",
              "  </svg>\n",
              "      </button>\n",
              "      \n",
              "  <style>\n",
              "    .colab-df-container {\n",
              "      display:flex;\n",
              "      flex-wrap:wrap;\n",
              "      gap: 12px;\n",
              "    }\n",
              "\n",
              "    .colab-df-convert {\n",
              "      background-color: #E8F0FE;\n",
              "      border: none;\n",
              "      border-radius: 50%;\n",
              "      cursor: pointer;\n",
              "      display: none;\n",
              "      fill: #1967D2;\n",
              "      height: 32px;\n",
              "      padding: 0 0 0 0;\n",
              "      width: 32px;\n",
              "    }\n",
              "\n",
              "    .colab-df-convert:hover {\n",
              "      background-color: #E2EBFA;\n",
              "      box-shadow: 0px 1px 2px rgba(60, 64, 67, 0.3), 0px 1px 3px 1px rgba(60, 64, 67, 0.15);\n",
              "      fill: #174EA6;\n",
              "    }\n",
              "\n",
              "    [theme=dark] .colab-df-convert {\n",
              "      background-color: #3B4455;\n",
              "      fill: #D2E3FC;\n",
              "    }\n",
              "\n",
              "    [theme=dark] .colab-df-convert:hover {\n",
              "      background-color: #434B5C;\n",
              "      box-shadow: 0px 1px 3px 1px rgba(0, 0, 0, 0.15);\n",
              "      filter: drop-shadow(0px 1px 2px rgba(0, 0, 0, 0.3));\n",
              "      fill: #FFFFFF;\n",
              "    }\n",
              "  </style>\n",
              "\n",
              "      <script>\n",
              "        const buttonEl =\n",
              "          document.querySelector('#df-303c127c-3010-442e-bfb7-f91e49ed34fd button.colab-df-convert');\n",
              "        buttonEl.style.display =\n",
              "          google.colab.kernel.accessAllowed ? 'block' : 'none';\n",
              "\n",
              "        async function convertToInteractive(key) {\n",
              "          const element = document.querySelector('#df-303c127c-3010-442e-bfb7-f91e49ed34fd');\n",
              "          const dataTable =\n",
              "            await google.colab.kernel.invokeFunction('convertToInteractive',\n",
              "                                                     [key], {});\n",
              "          if (!dataTable) return;\n",
              "\n",
              "          const docLinkHtml = 'Like what you see? Visit the ' +\n",
              "            '<a target=\"_blank\" href=https://colab.research.google.com/notebooks/data_table.ipynb>data table notebook</a>'\n",
              "            + ' to learn more about interactive tables.';\n",
              "          element.innerHTML = '';\n",
              "          dataTable['output_type'] = 'display_data';\n",
              "          await google.colab.output.renderOutput(dataTable, element);\n",
              "          const docLink = document.createElement('div');\n",
              "          docLink.innerHTML = docLinkHtml;\n",
              "          element.appendChild(docLink);\n",
              "        }\n",
              "      </script>\n",
              "    </div>\n",
              "  </div>\n",
              "  "
            ],
            "text/plain": [
              "col_0              count\n",
              "cell_phone_access       \n",
              "No                  6009\n",
              "Yes                17334"
            ]
          },
          "metadata": {},
          "execution_count": 24
        }
      ]
    },
    {
      "cell_type": "code",
      "source": [
        "# Frequency ttable of type_of_location and value counts\n",
        "\n",
        "location = pd.crosstab(index= finance['type_of_location'], columns= 'count')\n",
        "location"
      ],
      "metadata": {
        "colab": {
          "base_uri": "https://localhost:8080/",
          "height": 143
        },
        "id": "Z8PB3Cj4jd5D",
        "outputId": "a9b4b9a9-82aa-4bda-b2ae-1e7c5dce1912"
      },
      "execution_count": 25,
      "outputs": [
        {
          "output_type": "execute_result",
          "data": {
            "text/html": [
              "\n",
              "  <div id=\"df-06652b98-fe2b-426a-840b-c2f1d2bc22c8\">\n",
              "    <div class=\"colab-df-container\">\n",
              "      <div>\n",
              "<style scoped>\n",
              "    .dataframe tbody tr th:only-of-type {\n",
              "        vertical-align: middle;\n",
              "    }\n",
              "\n",
              "    .dataframe tbody tr th {\n",
              "        vertical-align: top;\n",
              "    }\n",
              "\n",
              "    .dataframe thead th {\n",
              "        text-align: right;\n",
              "    }\n",
              "</style>\n",
              "<table border=\"1\" class=\"dataframe\">\n",
              "  <thead>\n",
              "    <tr style=\"text-align: right;\">\n",
              "      <th>col_0</th>\n",
              "      <th>count</th>\n",
              "    </tr>\n",
              "    <tr>\n",
              "      <th>type_of_location</th>\n",
              "      <th></th>\n",
              "    </tr>\n",
              "  </thead>\n",
              "  <tbody>\n",
              "    <tr>\n",
              "      <th>Rural</th>\n",
              "      <td>14264</td>\n",
              "    </tr>\n",
              "    <tr>\n",
              "      <th>Urban</th>\n",
              "      <td>9079</td>\n",
              "    </tr>\n",
              "  </tbody>\n",
              "</table>\n",
              "</div>\n",
              "      <button class=\"colab-df-convert\" onclick=\"convertToInteractive('df-06652b98-fe2b-426a-840b-c2f1d2bc22c8')\"\n",
              "              title=\"Convert this dataframe to an interactive table.\"\n",
              "              style=\"display:none;\">\n",
              "        \n",
              "  <svg xmlns=\"http://www.w3.org/2000/svg\" height=\"24px\"viewBox=\"0 0 24 24\"\n",
              "       width=\"24px\">\n",
              "    <path d=\"M0 0h24v24H0V0z\" fill=\"none\"/>\n",
              "    <path d=\"M18.56 5.44l.94 2.06.94-2.06 2.06-.94-2.06-.94-.94-2.06-.94 2.06-2.06.94zm-11 1L8.5 8.5l.94-2.06 2.06-.94-2.06-.94L8.5 2.5l-.94 2.06-2.06.94zm10 10l.94 2.06.94-2.06 2.06-.94-2.06-.94-.94-2.06-.94 2.06-2.06.94z\"/><path d=\"M17.41 7.96l-1.37-1.37c-.4-.4-.92-.59-1.43-.59-.52 0-1.04.2-1.43.59L10.3 9.45l-7.72 7.72c-.78.78-.78 2.05 0 2.83L4 21.41c.39.39.9.59 1.41.59.51 0 1.02-.2 1.41-.59l7.78-7.78 2.81-2.81c.8-.78.8-2.07 0-2.86zM5.41 20L4 18.59l7.72-7.72 1.47 1.35L5.41 20z\"/>\n",
              "  </svg>\n",
              "      </button>\n",
              "      \n",
              "  <style>\n",
              "    .colab-df-container {\n",
              "      display:flex;\n",
              "      flex-wrap:wrap;\n",
              "      gap: 12px;\n",
              "    }\n",
              "\n",
              "    .colab-df-convert {\n",
              "      background-color: #E8F0FE;\n",
              "      border: none;\n",
              "      border-radius: 50%;\n",
              "      cursor: pointer;\n",
              "      display: none;\n",
              "      fill: #1967D2;\n",
              "      height: 32px;\n",
              "      padding: 0 0 0 0;\n",
              "      width: 32px;\n",
              "    }\n",
              "\n",
              "    .colab-df-convert:hover {\n",
              "      background-color: #E2EBFA;\n",
              "      box-shadow: 0px 1px 2px rgba(60, 64, 67, 0.3), 0px 1px 3px 1px rgba(60, 64, 67, 0.15);\n",
              "      fill: #174EA6;\n",
              "    }\n",
              "\n",
              "    [theme=dark] .colab-df-convert {\n",
              "      background-color: #3B4455;\n",
              "      fill: #D2E3FC;\n",
              "    }\n",
              "\n",
              "    [theme=dark] .colab-df-convert:hover {\n",
              "      background-color: #434B5C;\n",
              "      box-shadow: 0px 1px 3px 1px rgba(0, 0, 0, 0.15);\n",
              "      filter: drop-shadow(0px 1px 2px rgba(0, 0, 0, 0.3));\n",
              "      fill: #FFFFFF;\n",
              "    }\n",
              "  </style>\n",
              "\n",
              "      <script>\n",
              "        const buttonEl =\n",
              "          document.querySelector('#df-06652b98-fe2b-426a-840b-c2f1d2bc22c8 button.colab-df-convert');\n",
              "        buttonEl.style.display =\n",
              "          google.colab.kernel.accessAllowed ? 'block' : 'none';\n",
              "\n",
              "        async function convertToInteractive(key) {\n",
              "          const element = document.querySelector('#df-06652b98-fe2b-426a-840b-c2f1d2bc22c8');\n",
              "          const dataTable =\n",
              "            await google.colab.kernel.invokeFunction('convertToInteractive',\n",
              "                                                     [key], {});\n",
              "          if (!dataTable) return;\n",
              "\n",
              "          const docLinkHtml = 'Like what you see? Visit the ' +\n",
              "            '<a target=\"_blank\" href=https://colab.research.google.com/notebooks/data_table.ipynb>data table notebook</a>'\n",
              "            + ' to learn more about interactive tables.';\n",
              "          element.innerHTML = '';\n",
              "          dataTable['output_type'] = 'display_data';\n",
              "          await google.colab.output.renderOutput(dataTable, element);\n",
              "          const docLink = document.createElement('div');\n",
              "          docLink.innerHTML = docLinkHtml;\n",
              "          element.appendChild(docLink);\n",
              "        }\n",
              "      </script>\n",
              "    </div>\n",
              "  </div>\n",
              "  "
            ],
            "text/plain": [
              "col_0             count\n",
              "type_of_location       \n",
              "Rural             14264\n",
              "Urban              9079"
            ]
          },
          "metadata": {},
          "execution_count": 25
        }
      ]
    },
    {
      "cell_type": "code",
      "source": [
        "# Frequency ttable of the_relationship_with_head and value counts\n",
        "\n",
        "head = pd.crosstab(index= finance['the_relationship_with_head'], columns= 'count')\n",
        "head"
      ],
      "metadata": {
        "colab": {
          "base_uri": "https://localhost:8080/",
          "height": 268
        },
        "id": "k9Ad9JzDj82F",
        "outputId": "bc4100e7-2e30-44c2-e163-2d85ea5289c6"
      },
      "execution_count": 26,
      "outputs": [
        {
          "output_type": "execute_result",
          "data": {
            "text/html": [
              "\n",
              "  <div id=\"df-37105814-d09a-45f0-a595-9d79d269f25f\">\n",
              "    <div class=\"colab-df-container\">\n",
              "      <div>\n",
              "<style scoped>\n",
              "    .dataframe tbody tr th:only-of-type {\n",
              "        vertical-align: middle;\n",
              "    }\n",
              "\n",
              "    .dataframe tbody tr th {\n",
              "        vertical-align: top;\n",
              "    }\n",
              "\n",
              "    .dataframe thead th {\n",
              "        text-align: right;\n",
              "    }\n",
              "</style>\n",
              "<table border=\"1\" class=\"dataframe\">\n",
              "  <thead>\n",
              "    <tr style=\"text-align: right;\">\n",
              "      <th>col_0</th>\n",
              "      <th>count</th>\n",
              "    </tr>\n",
              "    <tr>\n",
              "      <th>the_relationship_with_head</th>\n",
              "      <th></th>\n",
              "    </tr>\n",
              "  </thead>\n",
              "  <tbody>\n",
              "    <tr>\n",
              "      <th>Child</th>\n",
              "      <td>2221</td>\n",
              "    </tr>\n",
              "    <tr>\n",
              "      <th>Head of Household</th>\n",
              "      <td>12730</td>\n",
              "    </tr>\n",
              "    <tr>\n",
              "      <th>Other non-relatives</th>\n",
              "      <td>189</td>\n",
              "    </tr>\n",
              "    <tr>\n",
              "      <th>Other relative</th>\n",
              "      <td>663</td>\n",
              "    </tr>\n",
              "    <tr>\n",
              "      <th>Parent</th>\n",
              "      <td>1069</td>\n",
              "    </tr>\n",
              "    <tr>\n",
              "      <th>Spouse</th>\n",
              "      <td>6471</td>\n",
              "    </tr>\n",
              "  </tbody>\n",
              "</table>\n",
              "</div>\n",
              "      <button class=\"colab-df-convert\" onclick=\"convertToInteractive('df-37105814-d09a-45f0-a595-9d79d269f25f')\"\n",
              "              title=\"Convert this dataframe to an interactive table.\"\n",
              "              style=\"display:none;\">\n",
              "        \n",
              "  <svg xmlns=\"http://www.w3.org/2000/svg\" height=\"24px\"viewBox=\"0 0 24 24\"\n",
              "       width=\"24px\">\n",
              "    <path d=\"M0 0h24v24H0V0z\" fill=\"none\"/>\n",
              "    <path d=\"M18.56 5.44l.94 2.06.94-2.06 2.06-.94-2.06-.94-.94-2.06-.94 2.06-2.06.94zm-11 1L8.5 8.5l.94-2.06 2.06-.94-2.06-.94L8.5 2.5l-.94 2.06-2.06.94zm10 10l.94 2.06.94-2.06 2.06-.94-2.06-.94-.94-2.06-.94 2.06-2.06.94z\"/><path d=\"M17.41 7.96l-1.37-1.37c-.4-.4-.92-.59-1.43-.59-.52 0-1.04.2-1.43.59L10.3 9.45l-7.72 7.72c-.78.78-.78 2.05 0 2.83L4 21.41c.39.39.9.59 1.41.59.51 0 1.02-.2 1.41-.59l7.78-7.78 2.81-2.81c.8-.78.8-2.07 0-2.86zM5.41 20L4 18.59l7.72-7.72 1.47 1.35L5.41 20z\"/>\n",
              "  </svg>\n",
              "      </button>\n",
              "      \n",
              "  <style>\n",
              "    .colab-df-container {\n",
              "      display:flex;\n",
              "      flex-wrap:wrap;\n",
              "      gap: 12px;\n",
              "    }\n",
              "\n",
              "    .colab-df-convert {\n",
              "      background-color: #E8F0FE;\n",
              "      border: none;\n",
              "      border-radius: 50%;\n",
              "      cursor: pointer;\n",
              "      display: none;\n",
              "      fill: #1967D2;\n",
              "      height: 32px;\n",
              "      padding: 0 0 0 0;\n",
              "      width: 32px;\n",
              "    }\n",
              "\n",
              "    .colab-df-convert:hover {\n",
              "      background-color: #E2EBFA;\n",
              "      box-shadow: 0px 1px 2px rgba(60, 64, 67, 0.3), 0px 1px 3px 1px rgba(60, 64, 67, 0.15);\n",
              "      fill: #174EA6;\n",
              "    }\n",
              "\n",
              "    [theme=dark] .colab-df-convert {\n",
              "      background-color: #3B4455;\n",
              "      fill: #D2E3FC;\n",
              "    }\n",
              "\n",
              "    [theme=dark] .colab-df-convert:hover {\n",
              "      background-color: #434B5C;\n",
              "      box-shadow: 0px 1px 3px 1px rgba(0, 0, 0, 0.15);\n",
              "      filter: drop-shadow(0px 1px 2px rgba(0, 0, 0, 0.3));\n",
              "      fill: #FFFFFF;\n",
              "    }\n",
              "  </style>\n",
              "\n",
              "      <script>\n",
              "        const buttonEl =\n",
              "          document.querySelector('#df-37105814-d09a-45f0-a595-9d79d269f25f button.colab-df-convert');\n",
              "        buttonEl.style.display =\n",
              "          google.colab.kernel.accessAllowed ? 'block' : 'none';\n",
              "\n",
              "        async function convertToInteractive(key) {\n",
              "          const element = document.querySelector('#df-37105814-d09a-45f0-a595-9d79d269f25f');\n",
              "          const dataTable =\n",
              "            await google.colab.kernel.invokeFunction('convertToInteractive',\n",
              "                                                     [key], {});\n",
              "          if (!dataTable) return;\n",
              "\n",
              "          const docLinkHtml = 'Like what you see? Visit the ' +\n",
              "            '<a target=\"_blank\" href=https://colab.research.google.com/notebooks/data_table.ipynb>data table notebook</a>'\n",
              "            + ' to learn more about interactive tables.';\n",
              "          element.innerHTML = '';\n",
              "          dataTable['output_type'] = 'display_data';\n",
              "          await google.colab.output.renderOutput(dataTable, element);\n",
              "          const docLink = document.createElement('div');\n",
              "          docLink.innerHTML = docLinkHtml;\n",
              "          element.appendChild(docLink);\n",
              "        }\n",
              "      </script>\n",
              "    </div>\n",
              "  </div>\n",
              "  "
            ],
            "text/plain": [
              "col_0                       count\n",
              "the_relationship_with_head       \n",
              "Child                        2221\n",
              "Head of Household           12730\n",
              "Other non-relatives           189\n",
              "Other relative                663\n",
              "Parent                       1069\n",
              "Spouse                       6471"
            ]
          },
          "metadata": {},
          "execution_count": 26
        }
      ]
    },
    {
      "cell_type": "code",
      "source": [
        "# Frequency ttable of marital_status and value counts\n",
        "\n",
        "marry = pd.crosstab(index= finance['marital_status'], columns= 'count')\n",
        "marry"
      ],
      "metadata": {
        "colab": {
          "base_uri": "https://localhost:8080/",
          "height": 237
        },
        "id": "tfvf4ZyVkv5D",
        "outputId": "6a1e04ac-19f9-447f-a49d-f48f14f67387"
      },
      "execution_count": 27,
      "outputs": [
        {
          "output_type": "execute_result",
          "data": {
            "text/html": [
              "\n",
              "  <div id=\"df-bb85bdd3-e1d6-4e4e-a0ab-9416a9d6876f\">\n",
              "    <div class=\"colab-df-container\">\n",
              "      <div>\n",
              "<style scoped>\n",
              "    .dataframe tbody tr th:only-of-type {\n",
              "        vertical-align: middle;\n",
              "    }\n",
              "\n",
              "    .dataframe tbody tr th {\n",
              "        vertical-align: top;\n",
              "    }\n",
              "\n",
              "    .dataframe thead th {\n",
              "        text-align: right;\n",
              "    }\n",
              "</style>\n",
              "<table border=\"1\" class=\"dataframe\">\n",
              "  <thead>\n",
              "    <tr style=\"text-align: right;\">\n",
              "      <th>col_0</th>\n",
              "      <th>count</th>\n",
              "    </tr>\n",
              "    <tr>\n",
              "      <th>marital_status</th>\n",
              "      <th></th>\n",
              "    </tr>\n",
              "  </thead>\n",
              "  <tbody>\n",
              "    <tr>\n",
              "      <th>Divorced/Seperated</th>\n",
              "      <td>2049</td>\n",
              "    </tr>\n",
              "    <tr>\n",
              "      <th>Dont know</th>\n",
              "      <td>8</td>\n",
              "    </tr>\n",
              "    <tr>\n",
              "      <th>Married/Living together</th>\n",
              "      <td>10700</td>\n",
              "    </tr>\n",
              "    <tr>\n",
              "      <th>Single/Never Married</th>\n",
              "      <td>7903</td>\n",
              "    </tr>\n",
              "    <tr>\n",
              "      <th>Widowed</th>\n",
              "      <td>2683</td>\n",
              "    </tr>\n",
              "  </tbody>\n",
              "</table>\n",
              "</div>\n",
              "      <button class=\"colab-df-convert\" onclick=\"convertToInteractive('df-bb85bdd3-e1d6-4e4e-a0ab-9416a9d6876f')\"\n",
              "              title=\"Convert this dataframe to an interactive table.\"\n",
              "              style=\"display:none;\">\n",
              "        \n",
              "  <svg xmlns=\"http://www.w3.org/2000/svg\" height=\"24px\"viewBox=\"0 0 24 24\"\n",
              "       width=\"24px\">\n",
              "    <path d=\"M0 0h24v24H0V0z\" fill=\"none\"/>\n",
              "    <path d=\"M18.56 5.44l.94 2.06.94-2.06 2.06-.94-2.06-.94-.94-2.06-.94 2.06-2.06.94zm-11 1L8.5 8.5l.94-2.06 2.06-.94-2.06-.94L8.5 2.5l-.94 2.06-2.06.94zm10 10l.94 2.06.94-2.06 2.06-.94-2.06-.94-.94-2.06-.94 2.06-2.06.94z\"/><path d=\"M17.41 7.96l-1.37-1.37c-.4-.4-.92-.59-1.43-.59-.52 0-1.04.2-1.43.59L10.3 9.45l-7.72 7.72c-.78.78-.78 2.05 0 2.83L4 21.41c.39.39.9.59 1.41.59.51 0 1.02-.2 1.41-.59l7.78-7.78 2.81-2.81c.8-.78.8-2.07 0-2.86zM5.41 20L4 18.59l7.72-7.72 1.47 1.35L5.41 20z\"/>\n",
              "  </svg>\n",
              "      </button>\n",
              "      \n",
              "  <style>\n",
              "    .colab-df-container {\n",
              "      display:flex;\n",
              "      flex-wrap:wrap;\n",
              "      gap: 12px;\n",
              "    }\n",
              "\n",
              "    .colab-df-convert {\n",
              "      background-color: #E8F0FE;\n",
              "      border: none;\n",
              "      border-radius: 50%;\n",
              "      cursor: pointer;\n",
              "      display: none;\n",
              "      fill: #1967D2;\n",
              "      height: 32px;\n",
              "      padding: 0 0 0 0;\n",
              "      width: 32px;\n",
              "    }\n",
              "\n",
              "    .colab-df-convert:hover {\n",
              "      background-color: #E2EBFA;\n",
              "      box-shadow: 0px 1px 2px rgba(60, 64, 67, 0.3), 0px 1px 3px 1px rgba(60, 64, 67, 0.15);\n",
              "      fill: #174EA6;\n",
              "    }\n",
              "\n",
              "    [theme=dark] .colab-df-convert {\n",
              "      background-color: #3B4455;\n",
              "      fill: #D2E3FC;\n",
              "    }\n",
              "\n",
              "    [theme=dark] .colab-df-convert:hover {\n",
              "      background-color: #434B5C;\n",
              "      box-shadow: 0px 1px 3px 1px rgba(0, 0, 0, 0.15);\n",
              "      filter: drop-shadow(0px 1px 2px rgba(0, 0, 0, 0.3));\n",
              "      fill: #FFFFFF;\n",
              "    }\n",
              "  </style>\n",
              "\n",
              "      <script>\n",
              "        const buttonEl =\n",
              "          document.querySelector('#df-bb85bdd3-e1d6-4e4e-a0ab-9416a9d6876f button.colab-df-convert');\n",
              "        buttonEl.style.display =\n",
              "          google.colab.kernel.accessAllowed ? 'block' : 'none';\n",
              "\n",
              "        async function convertToInteractive(key) {\n",
              "          const element = document.querySelector('#df-bb85bdd3-e1d6-4e4e-a0ab-9416a9d6876f');\n",
              "          const dataTable =\n",
              "            await google.colab.kernel.invokeFunction('convertToInteractive',\n",
              "                                                     [key], {});\n",
              "          if (!dataTable) return;\n",
              "\n",
              "          const docLinkHtml = 'Like what you see? Visit the ' +\n",
              "            '<a target=\"_blank\" href=https://colab.research.google.com/notebooks/data_table.ipynb>data table notebook</a>'\n",
              "            + ' to learn more about interactive tables.';\n",
              "          element.innerHTML = '';\n",
              "          dataTable['output_type'] = 'display_data';\n",
              "          await google.colab.output.renderOutput(dataTable, element);\n",
              "          const docLink = document.createElement('div');\n",
              "          docLink.innerHTML = docLinkHtml;\n",
              "          element.appendChild(docLink);\n",
              "        }\n",
              "      </script>\n",
              "    </div>\n",
              "  </div>\n",
              "  "
            ],
            "text/plain": [
              "col_0                    count\n",
              "marital_status                \n",
              "Divorced/Seperated        2049\n",
              "Dont know                    8\n",
              "Married/Living together  10700\n",
              "Single/Never Married      7903\n",
              "Widowed                   2683"
            ]
          },
          "metadata": {},
          "execution_count": 27
        }
      ]
    },
    {
      "cell_type": "markdown",
      "source": [
        "### 4.1.2 Analysis"
      ],
      "metadata": {
        "id": "r9QhsCaLlPkR"
      }
    },
    {
      "cell_type": "markdown",
      "source": [
        "#### 4.1.2 (a) Measures of central tendency"
      ],
      "metadata": {
        "id": "yHSFXINolTnz"
      }
    },
    {
      "cell_type": "markdown",
      "source": [
        "##### 4.1.2 (aa) Mean"
      ],
      "metadata": {
        "id": "bdYxTuvFl__y"
      }
    },
    {
      "cell_type": "code",
      "source": [
        "# Average household size\n",
        "\n",
        "finance.household_size.mean()"
      ],
      "metadata": {
        "colab": {
          "base_uri": "https://localhost:8080/"
        },
        "id": "o3ZEPmtvlSr0",
        "outputId": "5666cea7-ca5c-4b67-afe6-503a69c884bb"
      },
      "execution_count": 28,
      "outputs": [
        {
          "output_type": "execute_result",
          "data": {
            "text/plain": [
              "3.6886432763569377"
            ]
          },
          "metadata": {},
          "execution_count": 28
        }
      ]
    },
    {
      "cell_type": "code",
      "source": [
        "# Average age\n",
        "\n",
        "finance.respondent_age.mean()"
      ],
      "metadata": {
        "colab": {
          "base_uri": "https://localhost:8080/"
        },
        "id": "ZJuxfzqYlm4G",
        "outputId": "6ed42bb5-ab1b-48d8-c04f-26dacc5519c5"
      },
      "execution_count": 29,
      "outputs": [
        {
          "output_type": "execute_result",
          "data": {
            "text/plain": [
              "38.80550914621085"
            ]
          },
          "metadata": {},
          "execution_count": 29
        }
      ]
    },
    {
      "cell_type": "markdown",
      "source": [
        "##### 4.1.2 (ab) Mode"
      ],
      "metadata": {
        "id": "0BGI5noqmEaE"
      }
    },
    {
      "cell_type": "code",
      "source": [
        "# Modal household size\n",
        "\n",
        "finance.household_size.mode()"
      ],
      "metadata": {
        "colab": {
          "base_uri": "https://localhost:8080/"
        },
        "id": "j71zgnpplszQ",
        "outputId": "915ac66d-1f45-4859-8c0a-826c3a566548"
      },
      "execution_count": 30,
      "outputs": [
        {
          "output_type": "execute_result",
          "data": {
            "text/plain": [
              "0    2.0\n",
              "dtype: float64"
            ]
          },
          "metadata": {},
          "execution_count": 30
        }
      ]
    },
    {
      "cell_type": "code",
      "source": [
        "# Modal age\n",
        "\n",
        "finance.respondent_age.mode()"
      ],
      "metadata": {
        "colab": {
          "base_uri": "https://localhost:8080/"
        },
        "id": "-aG2IsBLl4NI",
        "outputId": "64d44889-689a-4f6e-cf5f-980b79ab870e"
      },
      "execution_count": 31,
      "outputs": [
        {
          "output_type": "execute_result",
          "data": {
            "text/plain": [
              "0    30.0\n",
              "dtype: float64"
            ]
          },
          "metadata": {},
          "execution_count": 31
        }
      ]
    },
    {
      "cell_type": "markdown",
      "source": [
        "##### 4.1.2 (ac) Median"
      ],
      "metadata": {
        "id": "tWYHp6CumR-_"
      }
    },
    {
      "cell_type": "code",
      "source": [
        "# Median household size\n",
        "\n",
        "finance.household_size.median()"
      ],
      "metadata": {
        "colab": {
          "base_uri": "https://localhost:8080/"
        },
        "id": "IYaYvswkmXYP",
        "outputId": "2e726776-6565-43b8-a925-968c518a9c16"
      },
      "execution_count": 32,
      "outputs": [
        {
          "output_type": "execute_result",
          "data": {
            "text/plain": [
              "3.0"
            ]
          },
          "metadata": {},
          "execution_count": 32
        }
      ]
    },
    {
      "cell_type": "code",
      "source": [
        "# Median age\n",
        "\n",
        "finance.respondent_age.median()"
      ],
      "metadata": {
        "colab": {
          "base_uri": "https://localhost:8080/"
        },
        "id": "WRQJAqdomfbn",
        "outputId": "ec881a80-7319-41fd-b63c-0715b095bc4a"
      },
      "execution_count": 33,
      "outputs": [
        {
          "output_type": "execute_result",
          "data": {
            "text/plain": [
              "35.0"
            ]
          },
          "metadata": {},
          "execution_count": 33
        }
      ]
    },
    {
      "cell_type": "markdown",
      "source": [
        "#### 4.1.2 (b) Measures of Dispersion"
      ],
      "metadata": {
        "id": "iFLREpRtmniH"
      }
    },
    {
      "cell_type": "markdown",
      "source": [
        "##### 4.1.2 (ba) Range"
      ],
      "metadata": {
        "id": "vcomDSgkmttO"
      }
    },
    {
      "cell_type": "code",
      "source": [
        "# Range of household_size\n",
        "\n",
        "# find max value \n",
        "house_max = finance.household_size.max()\n",
        "\n",
        "# find min value\n",
        "house_min = finance.household_size.min()\n",
        "\n",
        "#find difference(range)\n",
        "house_range = house_max - house_min\n",
        "house_range"
      ],
      "metadata": {
        "colab": {
          "base_uri": "https://localhost:8080/"
        },
        "id": "XbkyD4CymsJe",
        "outputId": "3fc81799-0b34-4cae-a057-7ab58c93b907"
      },
      "execution_count": 34,
      "outputs": [
        {
          "output_type": "execute_result",
          "data": {
            "text/plain": [
              "21.0"
            ]
          },
          "metadata": {},
          "execution_count": 34
        }
      ]
    },
    {
      "cell_type": "code",
      "source": [
        "# Range of age\n",
        "\n",
        "# find max value \n",
        "age_max = finance.respondent_age.max()\n",
        "\n",
        "# find min value\n",
        "age_min = finance.respondent_age.min()\n",
        "\n",
        "#find difference(range)\n",
        "age_range = age_max - age_min\n",
        "age_range"
      ],
      "metadata": {
        "colab": {
          "base_uri": "https://localhost:8080/"
        },
        "id": "zL4A-D3qngjW",
        "outputId": "2fe01e54-7b2c-4eeb-88cf-748475601615"
      },
      "execution_count": 35,
      "outputs": [
        {
          "output_type": "execute_result",
          "data": {
            "text/plain": [
              "84.0"
            ]
          },
          "metadata": {},
          "execution_count": 35
        }
      ]
    },
    {
      "cell_type": "markdown",
      "source": [
        "##### 4.1.2 (bb) Quantiles"
      ],
      "metadata": {
        "id": "OzpIEud5n-RZ"
      }
    },
    {
      "cell_type": "code",
      "source": [
        "# Quantiles of household_size\n",
        "\n",
        "finance[\"household_size\"].quantile([0.25,0.5,0.75])"
      ],
      "metadata": {
        "colab": {
          "base_uri": "https://localhost:8080/"
        },
        "id": "4S4a9wqEnze9",
        "outputId": "a4fdefe6-c64a-4594-b08d-c62095c26d36"
      },
      "execution_count": 36,
      "outputs": [
        {
          "output_type": "execute_result",
          "data": {
            "text/plain": [
              "0.25    2.0\n",
              "0.50    3.0\n",
              "0.75    5.0\n",
              "Name: household_size, dtype: float64"
            ]
          },
          "metadata": {},
          "execution_count": 36
        }
      ]
    },
    {
      "cell_type": "code",
      "source": [
        "# Quantiles of age\n",
        "\n",
        "finance[\"respondent_age\"].quantile([0.25,0.5,0.75])"
      ],
      "metadata": {
        "colab": {
          "base_uri": "https://localhost:8080/"
        },
        "id": "niZd_lW-oXEH",
        "outputId": "a8fef6c7-ea65-4225-b368-0ebfcc0938d4"
      },
      "execution_count": 37,
      "outputs": [
        {
          "output_type": "execute_result",
          "data": {
            "text/plain": [
              "0.25    26.0\n",
              "0.50    35.0\n",
              "0.75    49.0\n",
              "Name: respondent_age, dtype: float64"
            ]
          },
          "metadata": {},
          "execution_count": 37
        }
      ]
    },
    {
      "cell_type": "markdown",
      "source": [
        "##### 4.1.2 (bc) Standard Deviation (std)"
      ],
      "metadata": {
        "id": "tHlNF5yIpgRi"
      }
    },
    {
      "cell_type": "code",
      "source": [
        "# std of household_size\n",
        "\n",
        "finance.household_size.std()"
      ],
      "metadata": {
        "colab": {
          "base_uri": "https://localhost:8080/"
        },
        "id": "RnF5lGKXogzU",
        "outputId": "46547e52-1fbf-4164-d831-95dddf7d128d"
      },
      "execution_count": 38,
      "outputs": [
        {
          "output_type": "execute_result",
          "data": {
            "text/plain": [
              "2.2811835250351495"
            ]
          },
          "metadata": {},
          "execution_count": 38
        }
      ]
    },
    {
      "cell_type": "code",
      "source": [
        "# std of respondent_age\n",
        "\n",
        "finance.respondent_age.std()"
      ],
      "metadata": {
        "colab": {
          "base_uri": "https://localhost:8080/"
        },
        "id": "qpyCaPvspxWJ",
        "outputId": "b42144ec-8d69-4726-863c-5e2d2a0d7658"
      },
      "execution_count": 39,
      "outputs": [
        {
          "output_type": "execute_result",
          "data": {
            "text/plain": [
              "16.51980349804178"
            ]
          },
          "metadata": {},
          "execution_count": 39
        }
      ]
    },
    {
      "cell_type": "markdown",
      "source": [
        "##### 4.1.2 (bd) Variance"
      ],
      "metadata": {
        "id": "nsysED3SqB6K"
      }
    },
    {
      "cell_type": "code",
      "source": [
        "# Variance of household size\n",
        "\n",
        "finance.household_size.var()"
      ],
      "metadata": {
        "colab": {
          "base_uri": "https://localhost:8080/"
        },
        "id": "yPQxOpSWqEL4",
        "outputId": "e7399665-d8a6-429a-c5fe-aa4479001afe"
      },
      "execution_count": 40,
      "outputs": [
        {
          "output_type": "execute_result",
          "data": {
            "text/plain": [
              "5.20379827489179"
            ]
          },
          "metadata": {},
          "execution_count": 40
        }
      ]
    },
    {
      "cell_type": "code",
      "source": [
        "# Variance of age\n",
        "\n",
        "finance.respondent_age.var()"
      ],
      "metadata": {
        "colab": {
          "base_uri": "https://localhost:8080/"
        },
        "id": "m9U3lfpjqQpz",
        "outputId": "916eb5b7-149f-49f2-fd29-0384b76d1f72"
      },
      "execution_count": 41,
      "outputs": [
        {
          "output_type": "execute_result",
          "data": {
            "text/plain": [
              "272.90390761391353"
            ]
          },
          "metadata": {},
          "execution_count": 41
        }
      ]
    },
    {
      "cell_type": "markdown",
      "source": [
        "##### 4.1.2 (be) Skewness"
      ],
      "metadata": {
        "id": "MU7GwdhlqaK_"
      }
    },
    {
      "cell_type": "code",
      "source": [
        "# Skewness of household size\n",
        "\n",
        "finance.household_size.skew()"
      ],
      "metadata": {
        "colab": {
          "base_uri": "https://localhost:8080/"
        },
        "id": "SgQL7DcLqVf6",
        "outputId": "5696f14c-8e26-478c-e431-d67ec7616d24"
      },
      "execution_count": 42,
      "outputs": [
        {
          "output_type": "execute_result",
          "data": {
            "text/plain": [
              "0.9741086837897069"
            ]
          },
          "metadata": {},
          "execution_count": 42
        }
      ]
    },
    {
      "cell_type": "code",
      "source": [
        "# Skewness of age\n",
        "\n",
        "finance.respondent_age.skew()"
      ],
      "metadata": {
        "colab": {
          "base_uri": "https://localhost:8080/"
        },
        "id": "4QBbqGgLq56Y",
        "outputId": "98f49e4a-e802-44bd-ec08-7857de93f3df"
      },
      "execution_count": 43,
      "outputs": [
        {
          "output_type": "execute_result",
          "data": {
            "text/plain": [
              "0.840661747532081"
            ]
          },
          "metadata": {},
          "execution_count": 43
        }
      ]
    },
    {
      "cell_type": "markdown",
      "source": [
        "##### 4.1.2 (bf) Kurtosis"
      ],
      "metadata": {
        "id": "nnCdoibNqldo"
      }
    },
    {
      "cell_type": "code",
      "source": [
        "# Kurtosis of household size\n",
        "\n",
        "finance.household_size.kurt()"
      ],
      "metadata": {
        "colab": {
          "base_uri": "https://localhost:8080/"
        },
        "id": "dhaz4thpquEw",
        "outputId": "6e0468ad-1eda-46e2-8811-1a8f96b997f8"
      },
      "execution_count": 44,
      "outputs": [
        {
          "output_type": "execute_result",
          "data": {
            "text/plain": [
              "1.1538690689335573"
            ]
          },
          "metadata": {},
          "execution_count": 44
        }
      ]
    },
    {
      "cell_type": "code",
      "source": [
        "# Kurtosis of age size\n",
        "\n",
        "finance.respondent_age.kurt()"
      ],
      "metadata": {
        "colab": {
          "base_uri": "https://localhost:8080/"
        },
        "id": "-21kqSMQq4K_",
        "outputId": "2006ee2d-aa01-45e4-cc84-21edf3db21d8"
      },
      "execution_count": 45,
      "outputs": [
        {
          "output_type": "execute_result",
          "data": {
            "text/plain": [
              "0.09844652254807196"
            ]
          },
          "metadata": {},
          "execution_count": 45
        }
      ]
    },
    {
      "cell_type": "markdown",
      "source": [
        "## 4.2 Bivariate Analysis"
      ],
      "metadata": {
        "id": "zlEX5pd-rSgX"
      }
    },
    {
      "cell_type": "markdown",
      "source": [
        "### 4.2.1 Visualization"
      ],
      "metadata": {
        "id": "8-E8VUOirgCY"
      }
    },
    {
      "cell_type": "markdown",
      "source": [
        "#### 4.2.1 (a) Scatter Plot"
      ],
      "metadata": {
        "id": "OaMHAUjgrmhh"
      }
    },
    {
      "cell_type": "code",
      "source": [
        "# Specifying chart size\n",
        "\n",
        "plt.figure(dpi= 125)\n",
        "\n",
        "# plotting scatter plot\n",
        "plt.scatter(finance['household_size'], finance['respondent_age'])\n",
        "\n",
        "# titling scatter plot\n",
        "plt.title('A scatter plot of Age vs Household size', color= 'black')\n",
        "\n",
        "# labeling the x and y axis\n",
        "plt.xlabel('Household Size')\n",
        "plt.ylabel('Respondent Age')\n",
        "\n",
        "# displaying scatter plot\n",
        "plt.show()"
      ],
      "metadata": {
        "colab": {
          "base_uri": "https://localhost:8080/",
          "height": 501
        },
        "id": "lVPd2xnNrGhL",
        "outputId": "a587119e-a066-4b7a-8b32-35087532bd7e"
      },
      "execution_count": 46,
      "outputs": [
        {
          "output_type": "display_data",
          "data": {
            "image/png": "[encoded data removed]",
            "text/plain": [
              "<Figure size 750x500 with 1 Axes>"
            ]
          },
          "metadata": {}
        }
      ]
    },
    {
      "cell_type": "markdown",
      "source": [
        "#### 4.2.1 (b) Line Chart"
      ],
      "metadata": {
        "id": "t2o-2Wr9s2Gy"
      }
    },
    {
      "cell_type": "code",
      "source": [
        "# We create a new data frame to compare household_size and respondent_age\n",
        "# There are too many values for a line graph so we take 1st 50 rows\n",
        "\n",
        "finance2 = finance.iloc[0:50, -7:-5]\n",
        "finance2.head()"
      ],
      "metadata": {
        "colab": {
          "base_uri": "https://localhost:8080/",
          "height": 206
        },
        "id": "yccrb6n2s7kL",
        "outputId": "144dd7f8-2062-4ad0-fdcb-35ef9f921653"
      },
      "execution_count": 47,
      "outputs": [
        {
          "output_type": "execute_result",
          "data": {
            "text/html": [
              "\n",
              "  <div id=\"df-0dcfe706-4a06-4004-b167-a3201c4185ac\">\n",
              "    <div class=\"colab-df-container\">\n",
              "      <div>\n",
              "<style scoped>\n",
              "    .dataframe tbody tr th:only-of-type {\n",
              "        vertical-align: middle;\n",
              "    }\n",
              "\n",
              "    .dataframe tbody tr th {\n",
              "        vertical-align: top;\n",
              "    }\n",
              "\n",
              "    .dataframe thead th {\n",
              "        text-align: right;\n",
              "    }\n",
              "</style>\n",
              "<table border=\"1\" class=\"dataframe\">\n",
              "  <thead>\n",
              "    <tr style=\"text-align: right;\">\n",
              "      <th></th>\n",
              "      <th>household_size</th>\n",
              "      <th>respondent_age</th>\n",
              "    </tr>\n",
              "  </thead>\n",
              "  <tbody>\n",
              "    <tr>\n",
              "      <th>0</th>\n",
              "      <td>3.0</td>\n",
              "      <td>24.0</td>\n",
              "    </tr>\n",
              "    <tr>\n",
              "      <th>1</th>\n",
              "      <td>5.0</td>\n",
              "      <td>70.0</td>\n",
              "    </tr>\n",
              "    <tr>\n",
              "      <th>2</th>\n",
              "      <td>5.0</td>\n",
              "      <td>26.0</td>\n",
              "    </tr>\n",
              "    <tr>\n",
              "      <th>3</th>\n",
              "      <td>5.0</td>\n",
              "      <td>34.0</td>\n",
              "    </tr>\n",
              "    <tr>\n",
              "      <th>4</th>\n",
              "      <td>8.0</td>\n",
              "      <td>26.0</td>\n",
              "    </tr>\n",
              "  </tbody>\n",
              "</table>\n",
              "</div>\n",
              "      <button class=\"colab-df-convert\" onclick=\"convertToInteractive('df-0dcfe706-4a06-4004-b167-a3201c4185ac')\"\n",
              "              title=\"Convert this dataframe to an interactive table.\"\n",
              "              style=\"display:none;\">\n",
              "        \n",
              "  <svg xmlns=\"http://www.w3.org/2000/svg\" height=\"24px\"viewBox=\"0 0 24 24\"\n",
              "       width=\"24px\">\n",
              "    <path d=\"M0 0h24v24H0V0z\" fill=\"none\"/>\n",
              "    <path d=\"M18.56 5.44l.94 2.06.94-2.06 2.06-.94-2.06-.94-.94-2.06-.94 2.06-2.06.94zm-11 1L8.5 8.5l.94-2.06 2.06-.94-2.06-.94L8.5 2.5l-.94 2.06-2.06.94zm10 10l.94 2.06.94-2.06 2.06-.94-2.06-.94-.94-2.06-.94 2.06-2.06.94z\"/><path d=\"M17.41 7.96l-1.37-1.37c-.4-.4-.92-.59-1.43-.59-.52 0-1.04.2-1.43.59L10.3 9.45l-7.72 7.72c-.78.78-.78 2.05 0 2.83L4 21.41c.39.39.9.59 1.41.59.51 0 1.02-.2 1.41-.59l7.78-7.78 2.81-2.81c.8-.78.8-2.07 0-2.86zM5.41 20L4 18.59l7.72-7.72 1.47 1.35L5.41 20z\"/>\n",
              "  </svg>\n",
              "      </button>\n",
              "      \n",
              "  <style>\n",
              "    .colab-df-container {\n",
              "      display:flex;\n",
              "      flex-wrap:wrap;\n",
              "      gap: 12px;\n",
              "    }\n",
              "\n",
              "    .colab-df-convert {\n",
              "      background-color: #E8F0FE;\n",
              "      border: none;\n",
              "      border-radius: 50%;\n",
              "      cursor: pointer;\n",
              "      display: none;\n",
              "      fill: #1967D2;\n",
              "      height: 32px;\n",
              "      padding: 0 0 0 0;\n",
              "      width: 32px;\n",
              "    }\n",
              "\n",
              "    .colab-df-convert:hover {\n",
              "      background-color: #E2EBFA;\n",
              "      box-shadow: 0px 1px 2px rgba(60, 64, 67, 0.3), 0px 1px 3px 1px rgba(60, 64, 67, 0.15);\n",
              "      fill: #174EA6;\n",
              "    }\n",
              "\n",
              "    [theme=dark] .colab-df-convert {\n",
              "      background-color: #3B4455;\n",
              "      fill: #D2E3FC;\n",
              "    }\n",
              "\n",
              "    [theme=dark] .colab-df-convert:hover {\n",
              "      background-color: #434B5C;\n",
              "      box-shadow: 0px 1px 3px 1px rgba(0, 0, 0, 0.15);\n",
              "      filter: drop-shadow(0px 1px 2px rgba(0, 0, 0, 0.3));\n",
              "      fill: #FFFFFF;\n",
              "    }\n",
              "  </style>\n",
              "\n",
              "      <script>\n",
              "        const buttonEl =\n",
              "          document.querySelector('#df-0dcfe706-4a06-4004-b167-a3201c4185ac button.colab-df-convert');\n",
              "        buttonEl.style.display =\n",
              "          google.colab.kernel.accessAllowed ? 'block' : 'none';\n",
              "\n",
              "        async function convertToInteractive(key) {\n",
              "          const element = document.querySelector('#df-0dcfe706-4a06-4004-b167-a3201c4185ac');\n",
              "          const dataTable =\n",
              "            await google.colab.kernel.invokeFunction('convertToInteractive',\n",
              "                                                     [key], {});\n",
              "          if (!dataTable) return;\n",
              "\n",
              "          const docLinkHtml = 'Like what you see? Visit the ' +\n",
              "            '<a target=\"_blank\" href=https://colab.research.google.com/notebooks/data_table.ipynb>data table notebook</a>'\n",
              "            + ' to learn more about interactive tables.';\n",
              "          element.innerHTML = '';\n",
              "          dataTable['output_type'] = 'display_data';\n",
              "          await google.colab.output.renderOutput(dataTable, element);\n",
              "          const docLink = document.createElement('div');\n",
              "          docLink.innerHTML = docLinkHtml;\n",
              "          element.appendChild(docLink);\n",
              "        }\n",
              "      </script>\n",
              "    </div>\n",
              "  </div>\n",
              "  "
            ],
            "text/plain": [
              "   household_size  respondent_age\n",
              "0             3.0            24.0\n",
              "1             5.0            70.0\n",
              "2             5.0            26.0\n",
              "3             5.0            34.0\n",
              "4             8.0            26.0"
            ]
          },
          "metadata": {},
          "execution_count": 47
        }
      ]
    },
    {
      "cell_type": "code",
      "source": [
        "# Specifying chart size\n",
        "\n",
        "plt.figure(figsize=(7.5,7.5), dpi= 125)\n",
        "\n",
        "# plotting line chart\n",
        "plt.plot(finance2[['household_size','respondent_age']])\n",
        "\n",
        "# titling line chart\n",
        "plt.title('A line chart of Age vs Household size', color= 'black')\n",
        "\n",
        "# labeling the x and y axis\n",
        "plt.ylabel('Household Size')\n",
        "plt.xlabel('Respondent Age')\n",
        "\n",
        "# displaying line chart\n",
        "plt.show()"
      ],
      "metadata": {
        "colab": {
          "base_uri": "https://localhost:8080/",
          "height": 831
        },
        "id": "7QTloJcity-m",
        "outputId": "ae13dafa-f6e6-499b-a690-dfd5882bd420"
      },
      "execution_count": 48,
      "outputs": [
        {
          "output_type": "display_data",
          "data": {
            "image/png": "[encoded data removed]",
            "text/plain": [
              "<Figure size 937.5x937.5 with 1 Axes>"
            ]
          },
          "metadata": {}
        }
      ]
    },
    {
      "cell_type": "markdown",
      "source": [
        "#### 4.2.1 (c) Correlation"
      ],
      "metadata": {
        "id": "LnQk215iv_EU"
      }
    },
    {
      "cell_type": "code",
      "source": [
        "# Calculating the pearson coefficient of the entire dataframe\n",
        "\n",
        "finance.corr()"
      ],
      "metadata": {
        "colab": {
          "base_uri": "https://localhost:8080/",
          "height": 143
        },
        "id": "A-6_qsLIw2oc",
        "outputId": "d2d5ee63-e952-4b9a-e20b-042a15f9d28e"
      },
      "execution_count": 49,
      "outputs": [
        {
          "output_type": "execute_result",
          "data": {
            "text/html": [
              "\n",
              "  <div id=\"df-793a2fdd-b419-4840-b251-0b62230bc8f2\">\n",
              "    <div class=\"colab-df-container\">\n",
              "      <div>\n",
              "<style scoped>\n",
              "    .dataframe tbody tr th:only-of-type {\n",
              "        vertical-align: middle;\n",
              "    }\n",
              "\n",
              "    .dataframe tbody tr th {\n",
              "        vertical-align: top;\n",
              "    }\n",
              "\n",
              "    .dataframe thead th {\n",
              "        text-align: right;\n",
              "    }\n",
              "</style>\n",
              "<table border=\"1\" class=\"dataframe\">\n",
              "  <thead>\n",
              "    <tr style=\"text-align: right;\">\n",
              "      <th></th>\n",
              "      <th>year</th>\n",
              "      <th>household_size</th>\n",
              "      <th>respondent_age</th>\n",
              "    </tr>\n",
              "  </thead>\n",
              "  <tbody>\n",
              "    <tr>\n",
              "      <th>year</th>\n",
              "      <td>1.000000</td>\n",
              "      <td>-0.048902</td>\n",
              "      <td>-0.019062</td>\n",
              "    </tr>\n",
              "    <tr>\n",
              "      <th>household_size</th>\n",
              "      <td>-0.048902</td>\n",
              "      <td>1.000000</td>\n",
              "      <td>-0.119709</td>\n",
              "    </tr>\n",
              "    <tr>\n",
              "      <th>respondent_age</th>\n",
              "      <td>-0.019062</td>\n",
              "      <td>-0.119709</td>\n",
              "      <td>1.000000</td>\n",
              "    </tr>\n",
              "  </tbody>\n",
              "</table>\n",
              "</div>\n",
              "      <button class=\"colab-df-convert\" onclick=\"convertToInteractive('df-793a2fdd-b419-4840-b251-0b62230bc8f2')\"\n",
              "              title=\"Convert this dataframe to an interactive table.\"\n",
              "              style=\"display:none;\">\n",
              "        \n",
              "  <svg xmlns=\"http://www.w3.org/2000/svg\" height=\"24px\"viewBox=\"0 0 24 24\"\n",
              "       width=\"24px\">\n",
              "    <path d=\"M0 0h24v24H0V0z\" fill=\"none\"/>\n",
              "    <path d=\"M18.56 5.44l.94 2.06.94-2.06 2.06-.94-2.06-.94-.94-2.06-.94 2.06-2.06.94zm-11 1L8.5 8.5l.94-2.06 2.06-.94-2.06-.94L8.5 2.5l-.94 2.06-2.06.94zm10 10l.94 2.06.94-2.06 2.06-.94-2.06-.94-.94-2.06-.94 2.06-2.06.94z\"/><path d=\"M17.41 7.96l-1.37-1.37c-.4-.4-.92-.59-1.43-.59-.52 0-1.04.2-1.43.59L10.3 9.45l-7.72 7.72c-.78.78-.78 2.05 0 2.83L4 21.41c.39.39.9.59 1.41.59.51 0 1.02-.2 1.41-.59l7.78-7.78 2.81-2.81c.8-.78.8-2.07 0-2.86zM5.41 20L4 18.59l7.72-7.72 1.47 1.35L5.41 20z\"/>\n",
              "  </svg>\n",
              "      </button>\n",
              "      \n",
              "  <style>\n",
              "    .colab-df-container {\n",
              "      display:flex;\n",
              "      flex-wrap:wrap;\n",
              "      gap: 12px;\n",
              "    }\n",
              "\n",
              "    .colab-df-convert {\n",
              "      background-color: #E8F0FE;\n",
              "      border: none;\n",
              "      border-radius: 50%;\n",
              "      cursor: pointer;\n",
              "      display: none;\n",
              "      fill: #1967D2;\n",
              "      height: 32px;\n",
              "      padding: 0 0 0 0;\n",
              "      width: 32px;\n",
              "    }\n",
              "\n",
              "    .colab-df-convert:hover {\n",
              "      background-color: #E2EBFA;\n",
              "      box-shadow: 0px 1px 2px rgba(60, 64, 67, 0.3), 0px 1px 3px 1px rgba(60, 64, 67, 0.15);\n",
              "      fill: #174EA6;\n",
              "    }\n",
              "\n",
              "    [theme=dark] .colab-df-convert {\n",
              "      background-color: #3B4455;\n",
              "      fill: #D2E3FC;\n",
              "    }\n",
              "\n",
              "    [theme=dark] .colab-df-convert:hover {\n",
              "      background-color: #434B5C;\n",
              "      box-shadow: 0px 1px 3px 1px rgba(0, 0, 0, 0.15);\n",
              "      filter: drop-shadow(0px 1px 2px rgba(0, 0, 0, 0.3));\n",
              "      fill: #FFFFFF;\n",
              "    }\n",
              "  </style>\n",
              "\n",
              "      <script>\n",
              "        const buttonEl =\n",
              "          document.querySelector('#df-793a2fdd-b419-4840-b251-0b62230bc8f2 button.colab-df-convert');\n",
              "        buttonEl.style.display =\n",
              "          google.colab.kernel.accessAllowed ? 'block' : 'none';\n",
              "\n",
              "        async function convertToInteractive(key) {\n",
              "          const element = document.querySelector('#df-793a2fdd-b419-4840-b251-0b62230bc8f2');\n",
              "          const dataTable =\n",
              "            await google.colab.kernel.invokeFunction('convertToInteractive',\n",
              "                                                     [key], {});\n",
              "          if (!dataTable) return;\n",
              "\n",
              "          const docLinkHtml = 'Like what you see? Visit the ' +\n",
              "            '<a target=\"_blank\" href=https://colab.research.google.com/notebooks/data_table.ipynb>data table notebook</a>'\n",
              "            + ' to learn more about interactive tables.';\n",
              "          element.innerHTML = '';\n",
              "          dataTable['output_type'] = 'display_data';\n",
              "          await google.colab.output.renderOutput(dataTable, element);\n",
              "          const docLink = document.createElement('div');\n",
              "          docLink.innerHTML = docLinkHtml;\n",
              "          element.appendChild(docLink);\n",
              "        }\n",
              "      </script>\n",
              "    </div>\n",
              "  </div>\n",
              "  "
            ],
            "text/plain": [
              "                    year  household_size  respondent_age\n",
              "year            1.000000       -0.048902       -0.019062\n",
              "household_size -0.048902        1.000000       -0.119709\n",
              "respondent_age -0.019062       -0.119709        1.000000"
            ]
          },
          "metadata": {},
          "execution_count": 49
        }
      ]
    },
    {
      "cell_type": "code",
      "source": [
        "# Calculating the Pearson Correlation Co-efficient\n",
        "# We do not need to define the pearson, it calculates by default\n",
        "\n",
        "pcorr = finance[\"respondent_age\"].corr(finance[\"household_size\"]) \n",
        "print(pcorr)\n",
        "\n",
        "\n",
        "\n",
        "# Since the correlation coefficent of Age and Household is -0.12, \n",
        "# this means that Age and Household have a very weak negative correlation"
      ],
      "metadata": {
        "colab": {
          "base_uri": "https://localhost:8080/"
        },
        "id": "CB-Me8KuvK9G",
        "outputId": "39ecd10a-cc9a-4bca-f771-39ac4231856e"
      },
      "execution_count": 50,
      "outputs": [
        {
          "output_type": "stream",
          "name": "stdout",
          "text": [
            "-0.11970919507762415\n"
          ]
        }
      ]
    },
    {
      "cell_type": "code",
      "source": [
        "# Heatmap\n",
        "\n",
        "# defining our data\n",
        "x = finance.corr()\n",
        "\n",
        "# figure size specifications\n",
        "plt.figure(figsize = (7.5,7.5), dpi = 125)\n",
        "\n",
        "# using the Seaborn Visualization library\n",
        "sns.heatmap(x, xticklabels = x.columns, yticklabels=x.columns, annot = True)\n",
        "\n",
        "# labeling the title\n",
        "plt.title('A heatmap of the pearson co-efficients in our dataframe', color = \"magenta\")\n",
        "\n",
        "# displaying our chart\n",
        "plt.show()\n",
        "\n",
        "# all the variables have weak negative correlation with other variables other with themselves"
      ],
      "metadata": {
        "colab": {
          "base_uri": "https://localhost:8080/",
          "height": 806
        },
        "id": "lJfPVsTmxIsy",
        "outputId": "7ca804ca-fef4-43b0-b96a-9dd049a9ab12"
      },
      "execution_count": 51,
      "outputs": [
        {
          "output_type": "display_data",
          "data": {
            "image/png": "[encoded data removed]",
            "text/plain": [
              "<Figure size 937.5x937.5 with 2 Axes>"
            ]
          },
          "metadata": {}
        }
      ]
    },
    {
      "cell_type": "markdown",
      "source": [
        "## 4.3 Multivariate Analysis"
      ],
      "metadata": {
        "id": "94bW7vtjHSxs"
      }
    },
    {
      "cell_type": "markdown",
      "source": [
        "Here we focus on analyzing more than 2 statistical variables at once.\n",
        "We have many variables.\n",
        "To visualize patterns much better, we can reduce the variables into 2 or 3 significant ones without losing the essence of the data collected.\n",
        "\n",
        "\n",
        "\n",
        "To analyse multiple categorical variables we can turn them into dummies (zeros and ones). Pandas can turn a categorical variables into a series of zeros and ones, making them easier to compare."
      ],
      "metadata": {
        "id": "mt-N8CoQHbw0"
      }
    },
    {
      "cell_type": "code",
      "source": [
        "# Turning categorical variables into dummy variables with zeros and ones\n",
        "# pd.get_dummies creates a new dataframe which consists of zeros and ones.\n",
        "\n",
        "dummy = pd.get_dummies(finance[['country', 'type_of_location', 'cell_phone_access', 'gender_of_respondent','the_relationship_with_head', 'marital_status', 'level_of_education', 'type_of_job']])\n",
        "dummy.head()"
      ],
      "metadata": {
        "colab": {
          "base_uri": "https://localhost:8080/",
          "height": 305
        },
        "id": "9za98PYiKfq1",
        "outputId": "7c8acff1-9421-42bf-b528-dac613ac510e"
      },
      "execution_count": 107,
      "outputs": [
        {
          "output_type": "execute_result",
          "data": {
            "text/html": [
              "\n",
              "  <div id=\"df-972cf0e1-7bc3-4286-8d21-080a4c0db9a5\">\n",
              "    <div class=\"colab-df-container\">\n",
              "      <div>\n",
              "<style scoped>\n",
              "    .dataframe tbody tr th:only-of-type {\n",
              "        vertical-align: middle;\n",
              "    }\n",
              "\n",
              "    .dataframe tbody tr th {\n",
              "        vertical-align: top;\n",
              "    }\n",
              "\n",
              "    .dataframe thead th {\n",
              "        text-align: right;\n",
              "    }\n",
              "</style>\n",
              "<table border=\"1\" class=\"dataframe\">\n",
              "  <thead>\n",
              "    <tr style=\"text-align: right;\">\n",
              "      <th></th>\n",
              "      <th>country_Kenya</th>\n",
              "      <th>country_Rwanda</th>\n",
              "      <th>country_Tanzania</th>\n",
              "      <th>country_Uganda</th>\n",
              "      <th>type_of_location_Rural</th>\n",
              "      <th>type_of_location_Urban</th>\n",
              "      <th>cell_phone_access_No</th>\n",
              "      <th>cell_phone_access_Yes</th>\n",
              "      <th>gender_of_respondent_Female</th>\n",
              "      <th>gender_of_respondent_Male</th>\n",
              "      <th>the_relationship_with_head_Child</th>\n",
              "      <th>the_relationship_with_head_Head of Household</th>\n",
              "      <th>the_relationship_with_head_Other non-relatives</th>\n",
              "      <th>the_relationship_with_head_Other relative</th>\n",
              "      <th>the_relationship_with_head_Parent</th>\n",
              "      <th>the_relationship_with_head_Spouse</th>\n",
              "      <th>marital_status_Divorced/Seperated</th>\n",
              "      <th>marital_status_Dont know</th>\n",
              "      <th>marital_status_Married/Living together</th>\n",
              "      <th>marital_status_Single/Never Married</th>\n",
              "      <th>marital_status_Widowed</th>\n",
              "      <th>level_of_education_6</th>\n",
              "      <th>level_of_education_No formal education</th>\n",
              "      <th>level_of_education_Other/Dont know/RTA</th>\n",
              "      <th>level_of_education_Primary education</th>\n",
              "      <th>level_of_education_Secondary education</th>\n",
              "      <th>level_of_education_Tertiary education</th>\n",
              "      <th>level_of_education_Vocational/Specialised training</th>\n",
              "      <th>type_of_job_Dont Know/Refuse to answer</th>\n",
              "      <th>type_of_job_Farming and Fishing</th>\n",
              "      <th>type_of_job_Formally employed Government</th>\n",
              "      <th>type_of_job_Formally employed Private</th>\n",
              "      <th>type_of_job_Government Dependent</th>\n",
              "      <th>type_of_job_Informally employed</th>\n",
              "      <th>type_of_job_No Income</th>\n",
              "      <th>type_of_job_Other Income</th>\n",
              "      <th>type_of_job_Remittance Dependent</th>\n",
              "      <th>type_of_job_Self employed</th>\n",
              "    </tr>\n",
              "  </thead>\n",
              "  <tbody>\n",
              "    <tr>\n",
              "      <th>0</th>\n",
              "      <td>1</td>\n",
              "      <td>0</td>\n",
              "      <td>0</td>\n",
              "      <td>0</td>\n",
              "      <td>1</td>\n",
              "      <td>0</td>\n",
              "      <td>0</td>\n",
              "      <td>1</td>\n",
              "      <td>1</td>\n",
              "      <td>0</td>\n",
              "      <td>0</td>\n",
              "      <td>0</td>\n",
              "      <td>0</td>\n",
              "      <td>0</td>\n",
              "      <td>0</td>\n",
              "      <td>1</td>\n",
              "      <td>0</td>\n",
              "      <td>0</td>\n",
              "      <td>1</td>\n",
              "      <td>0</td>\n",
              "      <td>0</td>\n",
              "      <td>0</td>\n",
              "      <td>0</td>\n",
              "      <td>0</td>\n",
              "      <td>0</td>\n",
              "      <td>1</td>\n",
              "      <td>0</td>\n",
              "      <td>0</td>\n",
              "      <td>0</td>\n",
              "      <td>0</td>\n",
              "      <td>0</td>\n",
              "      <td>0</td>\n",
              "      <td>0</td>\n",
              "      <td>0</td>\n",
              "      <td>0</td>\n",
              "      <td>0</td>\n",
              "      <td>0</td>\n",
              "      <td>1</td>\n",
              "    </tr>\n",
              "    <tr>\n",
              "      <th>1</th>\n",
              "      <td>1</td>\n",
              "      <td>0</td>\n",
              "      <td>0</td>\n",
              "      <td>0</td>\n",
              "      <td>1</td>\n",
              "      <td>0</td>\n",
              "      <td>1</td>\n",
              "      <td>0</td>\n",
              "      <td>1</td>\n",
              "      <td>0</td>\n",
              "      <td>0</td>\n",
              "      <td>1</td>\n",
              "      <td>0</td>\n",
              "      <td>0</td>\n",
              "      <td>0</td>\n",
              "      <td>0</td>\n",
              "      <td>0</td>\n",
              "      <td>0</td>\n",
              "      <td>0</td>\n",
              "      <td>0</td>\n",
              "      <td>1</td>\n",
              "      <td>0</td>\n",
              "      <td>1</td>\n",
              "      <td>0</td>\n",
              "      <td>0</td>\n",
              "      <td>0</td>\n",
              "      <td>0</td>\n",
              "      <td>0</td>\n",
              "      <td>0</td>\n",
              "      <td>0</td>\n",
              "      <td>0</td>\n",
              "      <td>0</td>\n",
              "      <td>1</td>\n",
              "      <td>0</td>\n",
              "      <td>0</td>\n",
              "      <td>0</td>\n",
              "      <td>0</td>\n",
              "      <td>0</td>\n",
              "    </tr>\n",
              "    <tr>\n",
              "      <th>2</th>\n",
              "      <td>1</td>\n",
              "      <td>0</td>\n",
              "      <td>0</td>\n",
              "      <td>0</td>\n",
              "      <td>0</td>\n",
              "      <td>1</td>\n",
              "      <td>0</td>\n",
              "      <td>1</td>\n",
              "      <td>0</td>\n",
              "      <td>1</td>\n",
              "      <td>0</td>\n",
              "      <td>0</td>\n",
              "      <td>0</td>\n",
              "      <td>1</td>\n",
              "      <td>0</td>\n",
              "      <td>0</td>\n",
              "      <td>0</td>\n",
              "      <td>0</td>\n",
              "      <td>0</td>\n",
              "      <td>1</td>\n",
              "      <td>0</td>\n",
              "      <td>0</td>\n",
              "      <td>0</td>\n",
              "      <td>0</td>\n",
              "      <td>0</td>\n",
              "      <td>0</td>\n",
              "      <td>0</td>\n",
              "      <td>1</td>\n",
              "      <td>0</td>\n",
              "      <td>0</td>\n",
              "      <td>0</td>\n",
              "      <td>0</td>\n",
              "      <td>0</td>\n",
              "      <td>0</td>\n",
              "      <td>0</td>\n",
              "      <td>0</td>\n",
              "      <td>0</td>\n",
              "      <td>1</td>\n",
              "    </tr>\n",
              "    <tr>\n",
              "      <th>3</th>\n",
              "      <td>1</td>\n",
              "      <td>0</td>\n",
              "      <td>0</td>\n",
              "      <td>0</td>\n",
              "      <td>1</td>\n",
              "      <td>0</td>\n",
              "      <td>0</td>\n",
              "      <td>1</td>\n",
              "      <td>1</td>\n",
              "      <td>0</td>\n",
              "      <td>0</td>\n",
              "      <td>1</td>\n",
              "      <td>0</td>\n",
              "      <td>0</td>\n",
              "      <td>0</td>\n",
              "      <td>0</td>\n",
              "      <td>0</td>\n",
              "      <td>0</td>\n",
              "      <td>1</td>\n",
              "      <td>0</td>\n",
              "      <td>0</td>\n",
              "      <td>0</td>\n",
              "      <td>0</td>\n",
              "      <td>0</td>\n",
              "      <td>1</td>\n",
              "      <td>0</td>\n",
              "      <td>0</td>\n",
              "      <td>0</td>\n",
              "      <td>0</td>\n",
              "      <td>0</td>\n",
              "      <td>0</td>\n",
              "      <td>1</td>\n",
              "      <td>0</td>\n",
              "      <td>0</td>\n",
              "      <td>0</td>\n",
              "      <td>0</td>\n",
              "      <td>0</td>\n",
              "      <td>0</td>\n",
              "    </tr>\n",
              "    <tr>\n",
              "      <th>4</th>\n",
              "      <td>1</td>\n",
              "      <td>0</td>\n",
              "      <td>0</td>\n",
              "      <td>0</td>\n",
              "      <td>0</td>\n",
              "      <td>1</td>\n",
              "      <td>1</td>\n",
              "      <td>0</td>\n",
              "      <td>0</td>\n",
              "      <td>1</td>\n",
              "      <td>1</td>\n",
              "      <td>0</td>\n",
              "      <td>0</td>\n",
              "      <td>0</td>\n",
              "      <td>0</td>\n",
              "      <td>0</td>\n",
              "      <td>0</td>\n",
              "      <td>0</td>\n",
              "      <td>0</td>\n",
              "      <td>1</td>\n",
              "      <td>0</td>\n",
              "      <td>0</td>\n",
              "      <td>0</td>\n",
              "      <td>0</td>\n",
              "      <td>1</td>\n",
              "      <td>0</td>\n",
              "      <td>0</td>\n",
              "      <td>0</td>\n",
              "      <td>0</td>\n",
              "      <td>0</td>\n",
              "      <td>0</td>\n",
              "      <td>0</td>\n",
              "      <td>0</td>\n",
              "      <td>1</td>\n",
              "      <td>0</td>\n",
              "      <td>0</td>\n",
              "      <td>0</td>\n",
              "      <td>0</td>\n",
              "    </tr>\n",
              "  </tbody>\n",
              "</table>\n",
              "</div>\n",
              "      <button class=\"colab-df-convert\" onclick=\"convertToInteractive('df-972cf0e1-7bc3-4286-8d21-080a4c0db9a5')\"\n",
              "              title=\"Convert this dataframe to an interactive table.\"\n",
              "              style=\"display:none;\">\n",
              "        \n",
              "  <svg xmlns=\"http://www.w3.org/2000/svg\" height=\"24px\"viewBox=\"0 0 24 24\"\n",
              "       width=\"24px\">\n",
              "    <path d=\"M0 0h24v24H0V0z\" fill=\"none\"/>\n",
              "    <path d=\"M18.56 5.44l.94 2.06.94-2.06 2.06-.94-2.06-.94-.94-2.06-.94 2.06-2.06.94zm-11 1L8.5 8.5l.94-2.06 2.06-.94-2.06-.94L8.5 2.5l-.94 2.06-2.06.94zm10 10l.94 2.06.94-2.06 2.06-.94-2.06-.94-.94-2.06-.94 2.06-2.06.94z\"/><path d=\"M17.41 7.96l-1.37-1.37c-.4-.4-.92-.59-1.43-.59-.52 0-1.04.2-1.43.59L10.3 9.45l-7.72 7.72c-.78.78-.78 2.05 0 2.83L4 21.41c.39.39.9.59 1.41.59.51 0 1.02-.2 1.41-.59l7.78-7.78 2.81-2.81c.8-.78.8-2.07 0-2.86zM5.41 20L4 18.59l7.72-7.72 1.47 1.35L5.41 20z\"/>\n",
              "  </svg>\n",
              "      </button>\n",
              "      \n",
              "  <style>\n",
              "    .colab-df-container {\n",
              "      display:flex;\n",
              "      flex-wrap:wrap;\n",
              "      gap: 12px;\n",
              "    }\n",
              "\n",
              "    .colab-df-convert {\n",
              "      background-color: #E8F0FE;\n",
              "      border: none;\n",
              "      border-radius: 50%;\n",
              "      cursor: pointer;\n",
              "      display: none;\n",
              "      fill: #1967D2;\n",
              "      height: 32px;\n",
              "      padding: 0 0 0 0;\n",
              "      width: 32px;\n",
              "    }\n",
              "\n",
              "    .colab-df-convert:hover {\n",
              "      background-color: #E2EBFA;\n",
              "      box-shadow: 0px 1px 2px rgba(60, 64, 67, 0.3), 0px 1px 3px 1px rgba(60, 64, 67, 0.15);\n",
              "      fill: #174EA6;\n",
              "    }\n",
              "\n",
              "    [theme=dark] .colab-df-convert {\n",
              "      background-color: #3B4455;\n",
              "      fill: #D2E3FC;\n",
              "    }\n",
              "\n",
              "    [theme=dark] .colab-df-convert:hover {\n",
              "      background-color: #434B5C;\n",
              "      box-shadow: 0px 1px 3px 1px rgba(0, 0, 0, 0.15);\n",
              "      filter: drop-shadow(0px 1px 2px rgba(0, 0, 0, 0.3));\n",
              "      fill: #FFFFFF;\n",
              "    }\n",
              "  </style>\n",
              "\n",
              "      <script>\n",
              "        const buttonEl =\n",
              "          document.querySelector('#df-972cf0e1-7bc3-4286-8d21-080a4c0db9a5 button.colab-df-convert');\n",
              "        buttonEl.style.display =\n",
              "          google.colab.kernel.accessAllowed ? 'block' : 'none';\n",
              "\n",
              "        async function convertToInteractive(key) {\n",
              "          const element = document.querySelector('#df-972cf0e1-7bc3-4286-8d21-080a4c0db9a5');\n",
              "          const dataTable =\n",
              "            await google.colab.kernel.invokeFunction('convertToInteractive',\n",
              "                                                     [key], {});\n",
              "          if (!dataTable) return;\n",
              "\n",
              "          const docLinkHtml = 'Like what you see? Visit the ' +\n",
              "            '<a target=\"_blank\" href=https://colab.research.google.com/notebooks/data_table.ipynb>data table notebook</a>'\n",
              "            + ' to learn more about interactive tables.';\n",
              "          element.innerHTML = '';\n",
              "          dataTable['output_type'] = 'display_data';\n",
              "          await google.colab.output.renderOutput(dataTable, element);\n",
              "          const docLink = document.createElement('div');\n",
              "          docLink.innerHTML = docLinkHtml;\n",
              "          element.appendChild(docLink);\n",
              "        }\n",
              "      </script>\n",
              "    </div>\n",
              "  </div>\n",
              "  "
            ],
            "text/plain": [
              "   country_Kenya  ...  type_of_job_Self employed\n",
              "0              1  ...                          1\n",
              "1              1  ...                          0\n",
              "2              1  ...                          1\n",
              "3              1  ...                          0\n",
              "4              1  ...                          0\n",
              "\n",
              "[5 rows x 38 columns]"
            ]
          },
          "metadata": {},
          "execution_count": 107
        }
      ]
    },
    {
      "cell_type": "code",
      "source": [
        "# We have created new dataframe. To compare it to our original dataframe, we\n",
        "# need to concatenate them to work with them properly.\n",
        "\n",
        "# The dummy variables will be on the right side of the dataframe.\n",
        "# As they are columns, we concatenate them on axis=1.\n",
        "\n",
        "finance3 = pd.concat([finance, dummy], axis = 1)\n",
        "finance3.head()"
      ],
      "metadata": {
        "colab": {
          "base_uri": "https://localhost:8080/",
          "height": 408
        },
        "id": "G7TzrQkNLL-H",
        "outputId": "4df7d4cd-6e28-494f-b085-ce641cef693a"
      },
      "execution_count": 108,
      "outputs": [
        {
          "output_type": "execute_result",
          "data": {
            "text/html": [
              "\n",
              "  <div id=\"df-892181fe-e164-4083-ab79-01c46580609b\">\n",
              "    <div class=\"colab-df-container\">\n",
              "      <div>\n",
              "<style scoped>\n",
              "    .dataframe tbody tr th:only-of-type {\n",
              "        vertical-align: middle;\n",
              "    }\n",
              "\n",
              "    .dataframe tbody tr th {\n",
              "        vertical-align: top;\n",
              "    }\n",
              "\n",
              "    .dataframe thead th {\n",
              "        text-align: right;\n",
              "    }\n",
              "</style>\n",
              "<table border=\"1\" class=\"dataframe\">\n",
              "  <thead>\n",
              "    <tr style=\"text-align: right;\">\n",
              "      <th></th>\n",
              "      <th>country</th>\n",
              "      <th>year</th>\n",
              "      <th>has_a_bank_account</th>\n",
              "      <th>type_of_location</th>\n",
              "      <th>cell_phone_access</th>\n",
              "      <th>household_size</th>\n",
              "      <th>respondent_age</th>\n",
              "      <th>gender_of_respondent</th>\n",
              "      <th>the_relationship_with_head</th>\n",
              "      <th>marital_status</th>\n",
              "      <th>level_of_education</th>\n",
              "      <th>type_of_job</th>\n",
              "      <th>country_Kenya</th>\n",
              "      <th>country_Rwanda</th>\n",
              "      <th>country_Tanzania</th>\n",
              "      <th>country_Uganda</th>\n",
              "      <th>type_of_location_Rural</th>\n",
              "      <th>type_of_location_Urban</th>\n",
              "      <th>cell_phone_access_No</th>\n",
              "      <th>cell_phone_access_Yes</th>\n",
              "      <th>gender_of_respondent_Female</th>\n",
              "      <th>gender_of_respondent_Male</th>\n",
              "      <th>the_relationship_with_head_Child</th>\n",
              "      <th>the_relationship_with_head_Head of Household</th>\n",
              "      <th>the_relationship_with_head_Other non-relatives</th>\n",
              "      <th>the_relationship_with_head_Other relative</th>\n",
              "      <th>the_relationship_with_head_Parent</th>\n",
              "      <th>the_relationship_with_head_Spouse</th>\n",
              "      <th>marital_status_Divorced/Seperated</th>\n",
              "      <th>marital_status_Dont know</th>\n",
              "      <th>marital_status_Married/Living together</th>\n",
              "      <th>marital_status_Single/Never Married</th>\n",
              "      <th>marital_status_Widowed</th>\n",
              "      <th>level_of_education_6</th>\n",
              "      <th>level_of_education_No formal education</th>\n",
              "      <th>level_of_education_Other/Dont know/RTA</th>\n",
              "      <th>level_of_education_Primary education</th>\n",
              "      <th>level_of_education_Secondary education</th>\n",
              "      <th>level_of_education_Tertiary education</th>\n",
              "      <th>level_of_education_Vocational/Specialised training</th>\n",
              "      <th>type_of_job_Dont Know/Refuse to answer</th>\n",
              "      <th>type_of_job_Farming and Fishing</th>\n",
              "      <th>type_of_job_Formally employed Government</th>\n",
              "      <th>type_of_job_Formally employed Private</th>\n",
              "      <th>type_of_job_Government Dependent</th>\n",
              "      <th>type_of_job_Informally employed</th>\n",
              "      <th>type_of_job_No Income</th>\n",
              "      <th>type_of_job_Other Income</th>\n",
              "      <th>type_of_job_Remittance Dependent</th>\n",
              "      <th>type_of_job_Self employed</th>\n",
              "    </tr>\n",
              "  </thead>\n",
              "  <tbody>\n",
              "    <tr>\n",
              "      <th>0</th>\n",
              "      <td>Kenya</td>\n",
              "      <td>2018</td>\n",
              "      <td>Yes</td>\n",
              "      <td>Rural</td>\n",
              "      <td>Yes</td>\n",
              "      <td>3.0</td>\n",
              "      <td>24.0</td>\n",
              "      <td>Female</td>\n",
              "      <td>Spouse</td>\n",
              "      <td>Married/Living together</td>\n",
              "      <td>Secondary education</td>\n",
              "      <td>Self employed</td>\n",
              "      <td>1</td>\n",
              "      <td>0</td>\n",
              "      <td>0</td>\n",
              "      <td>0</td>\n",
              "      <td>1</td>\n",
              "      <td>0</td>\n",
              "      <td>0</td>\n",
              "      <td>1</td>\n",
              "      <td>1</td>\n",
              "      <td>0</td>\n",
              "      <td>0</td>\n",
              "      <td>0</td>\n",
              "      <td>0</td>\n",
              "      <td>0</td>\n",
              "      <td>0</td>\n",
              "      <td>1</td>\n",
              "      <td>0</td>\n",
              "      <td>0</td>\n",
              "      <td>1</td>\n",
              "      <td>0</td>\n",
              "      <td>0</td>\n",
              "      <td>0</td>\n",
              "      <td>0</td>\n",
              "      <td>0</td>\n",
              "      <td>0</td>\n",
              "      <td>1</td>\n",
              "      <td>0</td>\n",
              "      <td>0</td>\n",
              "      <td>0</td>\n",
              "      <td>0</td>\n",
              "      <td>0</td>\n",
              "      <td>0</td>\n",
              "      <td>0</td>\n",
              "      <td>0</td>\n",
              "      <td>0</td>\n",
              "      <td>0</td>\n",
              "      <td>0</td>\n",
              "      <td>1</td>\n",
              "    </tr>\n",
              "    <tr>\n",
              "      <th>1</th>\n",
              "      <td>Kenya</td>\n",
              "      <td>2018</td>\n",
              "      <td>No</td>\n",
              "      <td>Rural</td>\n",
              "      <td>No</td>\n",
              "      <td>5.0</td>\n",
              "      <td>70.0</td>\n",
              "      <td>Female</td>\n",
              "      <td>Head of Household</td>\n",
              "      <td>Widowed</td>\n",
              "      <td>No formal education</td>\n",
              "      <td>Government Dependent</td>\n",
              "      <td>1</td>\n",
              "      <td>0</td>\n",
              "      <td>0</td>\n",
              "      <td>0</td>\n",
              "      <td>1</td>\n",
              "      <td>0</td>\n",
              "      <td>1</td>\n",
              "      <td>0</td>\n",
              "      <td>1</td>\n",
              "      <td>0</td>\n",
              "      <td>0</td>\n",
              "      <td>1</td>\n",
              "      <td>0</td>\n",
              "      <td>0</td>\n",
              "      <td>0</td>\n",
              "      <td>0</td>\n",
              "      <td>0</td>\n",
              "      <td>0</td>\n",
              "      <td>0</td>\n",
              "      <td>0</td>\n",
              "      <td>1</td>\n",
              "      <td>0</td>\n",
              "      <td>1</td>\n",
              "      <td>0</td>\n",
              "      <td>0</td>\n",
              "      <td>0</td>\n",
              "      <td>0</td>\n",
              "      <td>0</td>\n",
              "      <td>0</td>\n",
              "      <td>0</td>\n",
              "      <td>0</td>\n",
              "      <td>0</td>\n",
              "      <td>1</td>\n",
              "      <td>0</td>\n",
              "      <td>0</td>\n",
              "      <td>0</td>\n",
              "      <td>0</td>\n",
              "      <td>0</td>\n",
              "    </tr>\n",
              "    <tr>\n",
              "      <th>2</th>\n",
              "      <td>Kenya</td>\n",
              "      <td>2018</td>\n",
              "      <td>Yes</td>\n",
              "      <td>Urban</td>\n",
              "      <td>Yes</td>\n",
              "      <td>5.0</td>\n",
              "      <td>26.0</td>\n",
              "      <td>Male</td>\n",
              "      <td>Other relative</td>\n",
              "      <td>Single/Never Married</td>\n",
              "      <td>Vocational/Specialised training</td>\n",
              "      <td>Self employed</td>\n",
              "      <td>1</td>\n",
              "      <td>0</td>\n",
              "      <td>0</td>\n",
              "      <td>0</td>\n",
              "      <td>0</td>\n",
              "      <td>1</td>\n",
              "      <td>0</td>\n",
              "      <td>1</td>\n",
              "      <td>0</td>\n",
              "      <td>1</td>\n",
              "      <td>0</td>\n",
              "      <td>0</td>\n",
              "      <td>0</td>\n",
              "      <td>1</td>\n",
              "      <td>0</td>\n",
              "      <td>0</td>\n",
              "      <td>0</td>\n",
              "      <td>0</td>\n",
              "      <td>0</td>\n",
              "      <td>1</td>\n",
              "      <td>0</td>\n",
              "      <td>0</td>\n",
              "      <td>0</td>\n",
              "      <td>0</td>\n",
              "      <td>0</td>\n",
              "      <td>0</td>\n",
              "      <td>0</td>\n",
              "      <td>1</td>\n",
              "      <td>0</td>\n",
              "      <td>0</td>\n",
              "      <td>0</td>\n",
              "      <td>0</td>\n",
              "      <td>0</td>\n",
              "      <td>0</td>\n",
              "      <td>0</td>\n",
              "      <td>0</td>\n",
              "      <td>0</td>\n",
              "      <td>1</td>\n",
              "    </tr>\n",
              "    <tr>\n",
              "      <th>3</th>\n",
              "      <td>Kenya</td>\n",
              "      <td>2018</td>\n",
              "      <td>No</td>\n",
              "      <td>Rural</td>\n",
              "      <td>Yes</td>\n",
              "      <td>5.0</td>\n",
              "      <td>34.0</td>\n",
              "      <td>Female</td>\n",
              "      <td>Head of Household</td>\n",
              "      <td>Married/Living together</td>\n",
              "      <td>Primary education</td>\n",
              "      <td>Formally employed Private</td>\n",
              "      <td>1</td>\n",
              "      <td>0</td>\n",
              "      <td>0</td>\n",
              "      <td>0</td>\n",
              "      <td>1</td>\n",
              "      <td>0</td>\n",
              "      <td>0</td>\n",
              "      <td>1</td>\n",
              "      <td>1</td>\n",
              "      <td>0</td>\n",
              "      <td>0</td>\n",
              "      <td>1</td>\n",
              "      <td>0</td>\n",
              "      <td>0</td>\n",
              "      <td>0</td>\n",
              "      <td>0</td>\n",
              "      <td>0</td>\n",
              "      <td>0</td>\n",
              "      <td>1</td>\n",
              "      <td>0</td>\n",
              "      <td>0</td>\n",
              "      <td>0</td>\n",
              "      <td>0</td>\n",
              "      <td>0</td>\n",
              "      <td>1</td>\n",
              "      <td>0</td>\n",
              "      <td>0</td>\n",
              "      <td>0</td>\n",
              "      <td>0</td>\n",
              "      <td>0</td>\n",
              "      <td>0</td>\n",
              "      <td>1</td>\n",
              "      <td>0</td>\n",
              "      <td>0</td>\n",
              "      <td>0</td>\n",
              "      <td>0</td>\n",
              "      <td>0</td>\n",
              "      <td>0</td>\n",
              "    </tr>\n",
              "    <tr>\n",
              "      <th>4</th>\n",
              "      <td>Kenya</td>\n",
              "      <td>2018</td>\n",
              "      <td>No</td>\n",
              "      <td>Urban</td>\n",
              "      <td>No</td>\n",
              "      <td>8.0</td>\n",
              "      <td>26.0</td>\n",
              "      <td>Male</td>\n",
              "      <td>Child</td>\n",
              "      <td>Single/Never Married</td>\n",
              "      <td>Primary education</td>\n",
              "      <td>Informally employed</td>\n",
              "      <td>1</td>\n",
              "      <td>0</td>\n",
              "      <td>0</td>\n",
              "      <td>0</td>\n",
              "      <td>0</td>\n",
              "      <td>1</td>\n",
              "      <td>1</td>\n",
              "      <td>0</td>\n",
              "      <td>0</td>\n",
              "      <td>1</td>\n",
              "      <td>1</td>\n",
              "      <td>0</td>\n",
              "      <td>0</td>\n",
              "      <td>0</td>\n",
              "      <td>0</td>\n",
              "      <td>0</td>\n",
              "      <td>0</td>\n",
              "      <td>0</td>\n",
              "      <td>0</td>\n",
              "      <td>1</td>\n",
              "      <td>0</td>\n",
              "      <td>0</td>\n",
              "      <td>0</td>\n",
              "      <td>0</td>\n",
              "      <td>1</td>\n",
              "      <td>0</td>\n",
              "      <td>0</td>\n",
              "      <td>0</td>\n",
              "      <td>0</td>\n",
              "      <td>0</td>\n",
              "      <td>0</td>\n",
              "      <td>0</td>\n",
              "      <td>0</td>\n",
              "      <td>1</td>\n",
              "      <td>0</td>\n",
              "      <td>0</td>\n",
              "      <td>0</td>\n",
              "      <td>0</td>\n",
              "    </tr>\n",
              "  </tbody>\n",
              "</table>\n",
              "</div>\n",
              "      <button class=\"colab-df-convert\" onclick=\"convertToInteractive('df-892181fe-e164-4083-ab79-01c46580609b')\"\n",
              "              title=\"Convert this dataframe to an interactive table.\"\n",
              "              style=\"display:none;\">\n",
              "        \n",
              "  <svg xmlns=\"http://www.w3.org/2000/svg\" height=\"24px\"viewBox=\"0 0 24 24\"\n",
              "       width=\"24px\">\n",
              "    <path d=\"M0 0h24v24H0V0z\" fill=\"none\"/>\n",
              "    <path d=\"M18.56 5.44l.94 2.06.94-2.06 2.06-.94-2.06-.94-.94-2.06-.94 2.06-2.06.94zm-11 1L8.5 8.5l.94-2.06 2.06-.94-2.06-.94L8.5 2.5l-.94 2.06-2.06.94zm10 10l.94 2.06.94-2.06 2.06-.94-2.06-.94-.94-2.06-.94 2.06-2.06.94z\"/><path d=\"M17.41 7.96l-1.37-1.37c-.4-.4-.92-.59-1.43-.59-.52 0-1.04.2-1.43.59L10.3 9.45l-7.72 7.72c-.78.78-.78 2.05 0 2.83L4 21.41c.39.39.9.59 1.41.59.51 0 1.02-.2 1.41-.59l7.78-7.78 2.81-2.81c.8-.78.8-2.07 0-2.86zM5.41 20L4 18.59l7.72-7.72 1.47 1.35L5.41 20z\"/>\n",
              "  </svg>\n",
              "      </button>\n",
              "      \n",
              "  <style>\n",
              "    .colab-df-container {\n",
              "      display:flex;\n",
              "      flex-wrap:wrap;\n",
              "      gap: 12px;\n",
              "    }\n",
              "\n",
              "    .colab-df-convert {\n",
              "      background-color: #E8F0FE;\n",
              "      border: none;\n",
              "      border-radius: 50%;\n",
              "      cursor: pointer;\n",
              "      display: none;\n",
              "      fill: #1967D2;\n",
              "      height: 32px;\n",
              "      padding: 0 0 0 0;\n",
              "      width: 32px;\n",
              "    }\n",
              "\n",
              "    .colab-df-convert:hover {\n",
              "      background-color: #E2EBFA;\n",
              "      box-shadow: 0px 1px 2px rgba(60, 64, 67, 0.3), 0px 1px 3px 1px rgba(60, 64, 67, 0.15);\n",
              "      fill: #174EA6;\n",
              "    }\n",
              "\n",
              "    [theme=dark] .colab-df-convert {\n",
              "      background-color: #3B4455;\n",
              "      fill: #D2E3FC;\n",
              "    }\n",
              "\n",
              "    [theme=dark] .colab-df-convert:hover {\n",
              "      background-color: #434B5C;\n",
              "      box-shadow: 0px 1px 3px 1px rgba(0, 0, 0, 0.15);\n",
              "      filter: drop-shadow(0px 1px 2px rgba(0, 0, 0, 0.3));\n",
              "      fill: #FFFFFF;\n",
              "    }\n",
              "  </style>\n",
              "\n",
              "      <script>\n",
              "        const buttonEl =\n",
              "          document.querySelector('#df-892181fe-e164-4083-ab79-01c46580609b button.colab-df-convert');\n",
              "        buttonEl.style.display =\n",
              "          google.colab.kernel.accessAllowed ? 'block' : 'none';\n",
              "\n",
              "        async function convertToInteractive(key) {\n",
              "          const element = document.querySelector('#df-892181fe-e164-4083-ab79-01c46580609b');\n",
              "          const dataTable =\n",
              "            await google.colab.kernel.invokeFunction('convertToInteractive',\n",
              "                                                     [key], {});\n",
              "          if (!dataTable) return;\n",
              "\n",
              "          const docLinkHtml = 'Like what you see? Visit the ' +\n",
              "            '<a target=\"_blank\" href=https://colab.research.google.com/notebooks/data_table.ipynb>data table notebook</a>'\n",
              "            + ' to learn more about interactive tables.';\n",
              "          element.innerHTML = '';\n",
              "          dataTable['output_type'] = 'display_data';\n",
              "          await google.colab.output.renderOutput(dataTable, element);\n",
              "          const docLink = document.createElement('div');\n",
              "          docLink.innerHTML = docLinkHtml;\n",
              "          element.appendChild(docLink);\n",
              "        }\n",
              "      </script>\n",
              "    </div>\n",
              "  </div>\n",
              "  "
            ],
            "text/plain": [
              "  country  year  ... type_of_job_Remittance Dependent type_of_job_Self employed\n",
              "0   Kenya  2018  ...                                0                         1\n",
              "1   Kenya  2018  ...                                0                         0\n",
              "2   Kenya  2018  ...                                0                         1\n",
              "3   Kenya  2018  ...                                0                         0\n",
              "4   Kenya  2018  ...                                0                         0\n",
              "\n",
              "[5 rows x 50 columns]"
            ]
          },
          "metadata": {},
          "execution_count": 108
        }
      ]
    },
    {
      "cell_type": "markdown",
      "source": [
        "### 4.3.1 Principal Component Analysis (P.C.A.)"
      ],
      "metadata": {
        "id": "iv62DJV9JMYe"
      }
    },
    {
      "cell_type": "code",
      "source": [
        "# Preprocessing steps\n",
        "\n",
        "# The first step is to divide the dataset into;\n",
        "# a feature set: X, \n",
        "# and corresponding label: y.\n",
        "\n",
        "\n",
        "X = finance3.drop(columns = ['country', 'has_a_bank_account',\t'type_of_location',\t'cell_phone_access', 'household_size',\t'respondent_age',\t'gender_of_respondent',\t'the_relationship_with_head',\t'marital_status',\t'level_of_education' ,\t'type_of_job'], axis = 1)\n",
        "y = finance3['has_a_bank_account']"
      ],
      "metadata": {
        "id": "rB54AQ-7cbfu"
      },
      "execution_count": 109,
      "outputs": []
    },
    {
      "cell_type": "code",
      "source": [
        "X.head()"
      ],
      "metadata": {
        "colab": {
          "base_uri": "https://localhost:8080/",
          "height": 305
        },
        "id": "H963eZo_NFt6",
        "outputId": "5585644b-182b-4d31-edb4-ec06d947619f"
      },
      "execution_count": 110,
      "outputs": [
        {
          "output_type": "execute_result",
          "data": {
            "text/html": [
              "\n",
              "  <div id=\"df-f8d61397-e91c-4daf-901e-7bc33d2cda21\">\n",
              "    <div class=\"colab-df-container\">\n",
              "      <div>\n",
              "<style scoped>\n",
              "    .dataframe tbody tr th:only-of-type {\n",
              "        vertical-align: middle;\n",
              "    }\n",
              "\n",
              "    .dataframe tbody tr th {\n",
              "        vertical-align: top;\n",
              "    }\n",
              "\n",
              "    .dataframe thead th {\n",
              "        text-align: right;\n",
              "    }\n",
              "</style>\n",
              "<table border=\"1\" class=\"dataframe\">\n",
              "  <thead>\n",
              "    <tr style=\"text-align: right;\">\n",
              "      <th></th>\n",
              "      <th>year</th>\n",
              "      <th>country_Kenya</th>\n",
              "      <th>country_Rwanda</th>\n",
              "      <th>country_Tanzania</th>\n",
              "      <th>country_Uganda</th>\n",
              "      <th>type_of_location_Rural</th>\n",
              "      <th>type_of_location_Urban</th>\n",
              "      <th>cell_phone_access_No</th>\n",
              "      <th>cell_phone_access_Yes</th>\n",
              "      <th>gender_of_respondent_Female</th>\n",
              "      <th>gender_of_respondent_Male</th>\n",
              "      <th>the_relationship_with_head_Child</th>\n",
              "      <th>the_relationship_with_head_Head of Household</th>\n",
              "      <th>the_relationship_with_head_Other non-relatives</th>\n",
              "      <th>the_relationship_with_head_Other relative</th>\n",
              "      <th>the_relationship_with_head_Parent</th>\n",
              "      <th>the_relationship_with_head_Spouse</th>\n",
              "      <th>marital_status_Divorced/Seperated</th>\n",
              "      <th>marital_status_Dont know</th>\n",
              "      <th>marital_status_Married/Living together</th>\n",
              "      <th>marital_status_Single/Never Married</th>\n",
              "      <th>marital_status_Widowed</th>\n",
              "      <th>level_of_education_6</th>\n",
              "      <th>level_of_education_No formal education</th>\n",
              "      <th>level_of_education_Other/Dont know/RTA</th>\n",
              "      <th>level_of_education_Primary education</th>\n",
              "      <th>level_of_education_Secondary education</th>\n",
              "      <th>level_of_education_Tertiary education</th>\n",
              "      <th>level_of_education_Vocational/Specialised training</th>\n",
              "      <th>type_of_job_Dont Know/Refuse to answer</th>\n",
              "      <th>type_of_job_Farming and Fishing</th>\n",
              "      <th>type_of_job_Formally employed Government</th>\n",
              "      <th>type_of_job_Formally employed Private</th>\n",
              "      <th>type_of_job_Government Dependent</th>\n",
              "      <th>type_of_job_Informally employed</th>\n",
              "      <th>type_of_job_No Income</th>\n",
              "      <th>type_of_job_Other Income</th>\n",
              "      <th>type_of_job_Remittance Dependent</th>\n",
              "      <th>type_of_job_Self employed</th>\n",
              "    </tr>\n",
              "  </thead>\n",
              "  <tbody>\n",
              "    <tr>\n",
              "      <th>0</th>\n",
              "      <td>2018</td>\n",
              "      <td>1</td>\n",
              "      <td>0</td>\n",
              "      <td>0</td>\n",
              "      <td>0</td>\n",
              "      <td>1</td>\n",
              "      <td>0</td>\n",
              "      <td>0</td>\n",
              "      <td>1</td>\n",
              "      <td>1</td>\n",
              "      <td>0</td>\n",
              "      <td>0</td>\n",
              "      <td>0</td>\n",
              "      <td>0</td>\n",
              "      <td>0</td>\n",
              "      <td>0</td>\n",
              "      <td>1</td>\n",
              "      <td>0</td>\n",
              "      <td>0</td>\n",
              "      <td>1</td>\n",
              "      <td>0</td>\n",
              "      <td>0</td>\n",
              "      <td>0</td>\n",
              "      <td>0</td>\n",
              "      <td>0</td>\n",
              "      <td>0</td>\n",
              "      <td>1</td>\n",
              "      <td>0</td>\n",
              "      <td>0</td>\n",
              "      <td>0</td>\n",
              "      <td>0</td>\n",
              "      <td>0</td>\n",
              "      <td>0</td>\n",
              "      <td>0</td>\n",
              "      <td>0</td>\n",
              "      <td>0</td>\n",
              "      <td>0</td>\n",
              "      <td>0</td>\n",
              "      <td>1</td>\n",
              "    </tr>\n",
              "    <tr>\n",
              "      <th>1</th>\n",
              "      <td>2018</td>\n",
              "      <td>1</td>\n",
              "      <td>0</td>\n",
              "      <td>0</td>\n",
              "      <td>0</td>\n",
              "      <td>1</td>\n",
              "      <td>0</td>\n",
              "      <td>1</td>\n",
              "      <td>0</td>\n",
              "      <td>1</td>\n",
              "      <td>0</td>\n",
              "      <td>0</td>\n",
              "      <td>1</td>\n",
              "      <td>0</td>\n",
              "      <td>0</td>\n",
              "      <td>0</td>\n",
              "      <td>0</td>\n",
              "      <td>0</td>\n",
              "      <td>0</td>\n",
              "      <td>0</td>\n",
              "      <td>0</td>\n",
              "      <td>1</td>\n",
              "      <td>0</td>\n",
              "      <td>1</td>\n",
              "      <td>0</td>\n",
              "      <td>0</td>\n",
              "      <td>0</td>\n",
              "      <td>0</td>\n",
              "      <td>0</td>\n",
              "      <td>0</td>\n",
              "      <td>0</td>\n",
              "      <td>0</td>\n",
              "      <td>0</td>\n",
              "      <td>1</td>\n",
              "      <td>0</td>\n",
              "      <td>0</td>\n",
              "      <td>0</td>\n",
              "      <td>0</td>\n",
              "      <td>0</td>\n",
              "    </tr>\n",
              "    <tr>\n",
              "      <th>2</th>\n",
              "      <td>2018</td>\n",
              "      <td>1</td>\n",
              "      <td>0</td>\n",
              "      <td>0</td>\n",
              "      <td>0</td>\n",
              "      <td>0</td>\n",
              "      <td>1</td>\n",
              "      <td>0</td>\n",
              "      <td>1</td>\n",
              "      <td>0</td>\n",
              "      <td>1</td>\n",
              "      <td>0</td>\n",
              "      <td>0</td>\n",
              "      <td>0</td>\n",
              "      <td>1</td>\n",
              "      <td>0</td>\n",
              "      <td>0</td>\n",
              "      <td>0</td>\n",
              "      <td>0</td>\n",
              "      <td>0</td>\n",
              "      <td>1</td>\n",
              "      <td>0</td>\n",
              "      <td>0</td>\n",
              "      <td>0</td>\n",
              "      <td>0</td>\n",
              "      <td>0</td>\n",
              "      <td>0</td>\n",
              "      <td>0</td>\n",
              "      <td>1</td>\n",
              "      <td>0</td>\n",
              "      <td>0</td>\n",
              "      <td>0</td>\n",
              "      <td>0</td>\n",
              "      <td>0</td>\n",
              "      <td>0</td>\n",
              "      <td>0</td>\n",
              "      <td>0</td>\n",
              "      <td>0</td>\n",
              "      <td>1</td>\n",
              "    </tr>\n",
              "    <tr>\n",
              "      <th>3</th>\n",
              "      <td>2018</td>\n",
              "      <td>1</td>\n",
              "      <td>0</td>\n",
              "      <td>0</td>\n",
              "      <td>0</td>\n",
              "      <td>1</td>\n",
              "      <td>0</td>\n",
              "      <td>0</td>\n",
              "      <td>1</td>\n",
              "      <td>1</td>\n",
              "      <td>0</td>\n",
              "      <td>0</td>\n",
              "      <td>1</td>\n",
              "      <td>0</td>\n",
              "      <td>0</td>\n",
              "      <td>0</td>\n",
              "      <td>0</td>\n",
              "      <td>0</td>\n",
              "      <td>0</td>\n",
              "      <td>1</td>\n",
              "      <td>0</td>\n",
              "      <td>0</td>\n",
              "      <td>0</td>\n",
              "      <td>0</td>\n",
              "      <td>0</td>\n",
              "      <td>1</td>\n",
              "      <td>0</td>\n",
              "      <td>0</td>\n",
              "      <td>0</td>\n",
              "      <td>0</td>\n",
              "      <td>0</td>\n",
              "      <td>0</td>\n",
              "      <td>1</td>\n",
              "      <td>0</td>\n",
              "      <td>0</td>\n",
              "      <td>0</td>\n",
              "      <td>0</td>\n",
              "      <td>0</td>\n",
              "      <td>0</td>\n",
              "    </tr>\n",
              "    <tr>\n",
              "      <th>4</th>\n",
              "      <td>2018</td>\n",
              "      <td>1</td>\n",
              "      <td>0</td>\n",
              "      <td>0</td>\n",
              "      <td>0</td>\n",
              "      <td>0</td>\n",
              "      <td>1</td>\n",
              "      <td>1</td>\n",
              "      <td>0</td>\n",
              "      <td>0</td>\n",
              "      <td>1</td>\n",
              "      <td>1</td>\n",
              "      <td>0</td>\n",
              "      <td>0</td>\n",
              "      <td>0</td>\n",
              "      <td>0</td>\n",
              "      <td>0</td>\n",
              "      <td>0</td>\n",
              "      <td>0</td>\n",
              "      <td>0</td>\n",
              "      <td>1</td>\n",
              "      <td>0</td>\n",
              "      <td>0</td>\n",
              "      <td>0</td>\n",
              "      <td>0</td>\n",
              "      <td>1</td>\n",
              "      <td>0</td>\n",
              "      <td>0</td>\n",
              "      <td>0</td>\n",
              "      <td>0</td>\n",
              "      <td>0</td>\n",
              "      <td>0</td>\n",
              "      <td>0</td>\n",
              "      <td>0</td>\n",
              "      <td>1</td>\n",
              "      <td>0</td>\n",
              "      <td>0</td>\n",
              "      <td>0</td>\n",
              "      <td>0</td>\n",
              "    </tr>\n",
              "  </tbody>\n",
              "</table>\n",
              "</div>\n",
              "      <button class=\"colab-df-convert\" onclick=\"convertToInteractive('df-f8d61397-e91c-4daf-901e-7bc33d2cda21')\"\n",
              "              title=\"Convert this dataframe to an interactive table.\"\n",
              "              style=\"display:none;\">\n",
              "        \n",
              "  <svg xmlns=\"http://www.w3.org/2000/svg\" height=\"24px\"viewBox=\"0 0 24 24\"\n",
              "       width=\"24px\">\n",
              "    <path d=\"M0 0h24v24H0V0z\" fill=\"none\"/>\n",
              "    <path d=\"M18.56 5.44l.94 2.06.94-2.06 2.06-.94-2.06-.94-.94-2.06-.94 2.06-2.06.94zm-11 1L8.5 8.5l.94-2.06 2.06-.94-2.06-.94L8.5 2.5l-.94 2.06-2.06.94zm10 10l.94 2.06.94-2.06 2.06-.94-2.06-.94-.94-2.06-.94 2.06-2.06.94z\"/><path d=\"M17.41 7.96l-1.37-1.37c-.4-.4-.92-.59-1.43-.59-.52 0-1.04.2-1.43.59L10.3 9.45l-7.72 7.72c-.78.78-.78 2.05 0 2.83L4 21.41c.39.39.9.59 1.41.59.51 0 1.02-.2 1.41-.59l7.78-7.78 2.81-2.81c.8-.78.8-2.07 0-2.86zM5.41 20L4 18.59l7.72-7.72 1.47 1.35L5.41 20z\"/>\n",
              "  </svg>\n",
              "      </button>\n",
              "      \n",
              "  <style>\n",
              "    .colab-df-container {\n",
              "      display:flex;\n",
              "      flex-wrap:wrap;\n",
              "      gap: 12px;\n",
              "    }\n",
              "\n",
              "    .colab-df-convert {\n",
              "      background-color: #E8F0FE;\n",
              "      border: none;\n",
              "      border-radius: 50%;\n",
              "      cursor: pointer;\n",
              "      display: none;\n",
              "      fill: #1967D2;\n",
              "      height: 32px;\n",
              "      padding: 0 0 0 0;\n",
              "      width: 32px;\n",
              "    }\n",
              "\n",
              "    .colab-df-convert:hover {\n",
              "      background-color: #E2EBFA;\n",
              "      box-shadow: 0px 1px 2px rgba(60, 64, 67, 0.3), 0px 1px 3px 1px rgba(60, 64, 67, 0.15);\n",
              "      fill: #174EA6;\n",
              "    }\n",
              "\n",
              "    [theme=dark] .colab-df-convert {\n",
              "      background-color: #3B4455;\n",
              "      fill: #D2E3FC;\n",
              "    }\n",
              "\n",
              "    [theme=dark] .colab-df-convert:hover {\n",
              "      background-color: #434B5C;\n",
              "      box-shadow: 0px 1px 3px 1px rgba(0, 0, 0, 0.15);\n",
              "      filter: drop-shadow(0px 1px 2px rgba(0, 0, 0, 0.3));\n",
              "      fill: #FFFFFF;\n",
              "    }\n",
              "  </style>\n",
              "\n",
              "      <script>\n",
              "        const buttonEl =\n",
              "          document.querySelector('#df-f8d61397-e91c-4daf-901e-7bc33d2cda21 button.colab-df-convert');\n",
              "        buttonEl.style.display =\n",
              "          google.colab.kernel.accessAllowed ? 'block' : 'none';\n",
              "\n",
              "        async function convertToInteractive(key) {\n",
              "          const element = document.querySelector('#df-f8d61397-e91c-4daf-901e-7bc33d2cda21');\n",
              "          const dataTable =\n",
              "            await google.colab.kernel.invokeFunction('convertToInteractive',\n",
              "                                                     [key], {});\n",
              "          if (!dataTable) return;\n",
              "\n",
              "          const docLinkHtml = 'Like what you see? Visit the ' +\n",
              "            '<a target=\"_blank\" href=https://colab.research.google.com/notebooks/data_table.ipynb>data table notebook</a>'\n",
              "            + ' to learn more about interactive tables.';\n",
              "          element.innerHTML = '';\n",
              "          dataTable['output_type'] = 'display_data';\n",
              "          await google.colab.output.renderOutput(dataTable, element);\n",
              "          const docLink = document.createElement('div');\n",
              "          docLink.innerHTML = docLinkHtml;\n",
              "          element.appendChild(docLink);\n",
              "        }\n",
              "      </script>\n",
              "    </div>\n",
              "  </div>\n",
              "  "
            ],
            "text/plain": [
              "   year  ...  type_of_job_Self employed\n",
              "0  2018  ...                          1\n",
              "1  2018  ...                          0\n",
              "2  2018  ...                          1\n",
              "3  2018  ...                          0\n",
              "4  2018  ...                          0\n",
              "\n",
              "[5 rows x 39 columns]"
            ]
          },
          "metadata": {},
          "execution_count": 110
        }
      ]
    },
    {
      "cell_type": "code",
      "source": [
        "y.head()"
      ],
      "metadata": {
        "colab": {
          "base_uri": "https://localhost:8080/"
        },
        "id": "2dEz1nfTNH3T",
        "outputId": "36b24759-ed19-4702-c8b2-25b83130bee3"
      },
      "execution_count": 111,
      "outputs": [
        {
          "output_type": "execute_result",
          "data": {
            "text/plain": [
              "0    Yes\n",
              "1     No\n",
              "2    Yes\n",
              "3     No\n",
              "4     No\n",
              "Name: has_a_bank_account, dtype: object"
            ]
          },
          "metadata": {},
          "execution_count": 111
        }
      ]
    },
    {
      "cell_type": "code",
      "source": [
        "# Step 2\n",
        "# Splitting dataset into Training set and Test set\n",
        "\n",
        "from sklearn.model_selection import train_test_split\n",
        "\n",
        "X_train, X_test, y_train, y_test = train_test_split(X, y, test_size = 0.2, random_state=0)"
      ],
      "metadata": {
        "id": "7LC9DwFeNJkq"
      },
      "execution_count": 112,
      "outputs": []
    },
    {
      "cell_type": "code",
      "source": [
        "# Step 3\n",
        "# Normalization\n",
        "# PCA performs best with a normalized FEATURE SET (X). \n",
        "# We will perform standard scaler normalization to normalize our feature set\n",
        "\n",
        "from sklearn.preprocessing import StandardScaler\n",
        "\n",
        "sc = StandardScaler()\n",
        "X_train = sc.fit_transform(X_train)\n",
        "X_test = sc.transform(X_test)"
      ],
      "metadata": {
        "id": "-6Xrh6mkNbtT"
      },
      "execution_count": 113,
      "outputs": []
    },
    {
      "cell_type": "code",
      "source": [
        "# Step 4\n",
        "# Performing PCA using Python's Scikit-Learn library.\n",
        "\n",
        "# Performing PCA using Scikit-Learn is a two-step process:\n",
        "# 1. Initialize PCA class by passing the number of components to the constructor.\n",
        "# 2. Call the fit and then transform methods by passing the feature set to these methods. \n",
        "\n",
        "from sklearn.decomposition import PCA\n",
        "\n",
        "pca = PCA(0.95)\n",
        "X_train = pca.fit_transform(X_train)\n",
        "X_test = pca.transform(X_test)"
      ],
      "metadata": {
        "id": "PcOVPgxoNjkm"
      },
      "execution_count": 114,
      "outputs": []
    },
    {
      "cell_type": "code",
      "source": [
        "# Step 5\n",
        "# Explained Variance Ratio\n",
        "# The PCA class contains explained_variance_ratio_ which returns variance caused by each principal component. \n",
        "# The code below will output \"explained variance ratio\".\n",
        "\n",
        "\n",
        "explained_variance = pca.explained_variance_ratio_\n",
        "explained_variance"
      ],
      "metadata": {
        "colab": {
          "base_uri": "https://localhost:8080/"
        },
        "id": "So7qgZH_OQnv",
        "outputId": "822c973d-cdba-4679-9754-dbcd24f95280"
      },
      "execution_count": 115,
      "outputs": [
        {
          "output_type": "execute_result",
          "data": {
            "text/plain": [
              "array([0.10137069, 0.07612268, 0.0668885 , 0.05819225, 0.05445205,\n",
              "       0.0453284 , 0.04271907, 0.03682744, 0.0363439 , 0.03314009,\n",
              "       0.03106904, 0.02831884, 0.02773453, 0.02667659, 0.02614559,\n",
              "       0.02593555, 0.0258    , 0.02548575, 0.02541562, 0.02502096,\n",
              "       0.02462163, 0.02422177, 0.02268951, 0.02204887, 0.02008635,\n",
              "       0.01736547])"
            ]
          },
          "metadata": {},
          "execution_count": 115
        }
      ]
    },
    {
      "cell_type": "code",
      "source": [
        "# Step 6\n",
        "# Train our algorithm using 26 Principal Components\n",
        " \n",
        "from sklearn.decomposition import PCA\n",
        "\n",
        "pca = PCA(n_components=26)\n",
        "X_train = pca.fit_transform(X_train)\n",
        "X_test = pca.transform(X_test)"
      ],
      "metadata": {
        "id": "GeBJ87EtOc4k"
      },
      "execution_count": 116,
      "outputs": []
    },
    {
      "cell_type": "code",
      "source": [
        "# step 7\n",
        "# Training and and Making Predictions \n",
        "# Here we use random forest classification for making predictions\n",
        "\n",
        "from sklearn.ensemble import RandomForestClassifier\n",
        "\n",
        "classifier = RandomForestClassifier(max_depth = 2, random_state = 0)\n",
        "classifier.fit(X_train, y_train)\n",
        "\n",
        "# predicting the Test set results\n",
        "\n",
        "y_pred = classifier.predict(X_test)"
      ],
      "metadata": {
        "id": "INKJgWgRP62x"
      },
      "execution_count": 117,
      "outputs": []
    },
    {
      "cell_type": "code",
      "source": [
        "# step 8\n",
        "# Performance evaluation\n",
        "\n",
        "from sklearn.metrics import confusion_matrix\n",
        "from sklearn.metrics import accuracy_score\n",
        "\n",
        "cm = confusion_matrix(y_test, y_pred)\n",
        "print(cm)\n",
        "print('Accuracy' , accuracy_score(y_test, y_pred))\n",
        "\n",
        "\n",
        "\n",
        "# From the output we see that with only one feature, \n",
        "# the random forest algorithm is able to correctly predict 4041 out of 4668 instances, \n",
        "# resulting in 86.76% accuracy."
      ],
      "metadata": {
        "colab": {
          "base_uri": "https://localhost:8080/"
        },
        "id": "JWP0_HdwTI8m",
        "outputId": "d90baf36-7f1f-444b-fc85-5c4a4ba08008"
      },
      "execution_count": 118,
      "outputs": [
        {
          "output_type": "stream",
          "name": "stdout",
          "text": [
            "[[4003    5]\n",
            " [ 613   48]]\n",
            "Accuracy 0.8676376097665452\n"
          ]
        }
      ]
    },
    {
      "cell_type": "markdown",
      "source": [
        "### 4.3.2 Linear Discriminate Analysis (L.D.A.)"
      ],
      "metadata": {
        "id": "X2hBPdu0UqKr"
      }
    },
    {
      "cell_type": "code",
      "source": [
        "# Step 1: The first step is to divide dataset into features (f) and corresponding labels (l) \n",
        "# and then divide the resultant dataset into training and test sets. \n",
        "\n",
        "f = finance3.iloc[:, 12:].values\n",
        "l = finance3.iloc[:, 2].values"
      ],
      "metadata": {
        "id": "Dj6Y2pCmU6sk"
      },
      "execution_count": 132,
      "outputs": []
    },
    {
      "cell_type": "code",
      "source": [
        "f"
      ],
      "metadata": {
        "colab": {
          "base_uri": "https://localhost:8080/"
        },
        "id": "JrttlU5aXMNi",
        "outputId": "ebf08826-207e-4b6e-ea1d-262ef8567e44"
      },
      "execution_count": 133,
      "outputs": [
        {
          "output_type": "execute_result",
          "data": {
            "text/plain": [
              "array([[1, 0, 0, ..., 0, 0, 1],\n",
              "       [1, 0, 0, ..., 0, 0, 0],\n",
              "       [1, 0, 0, ..., 0, 0, 1],\n",
              "       ...,\n",
              "       [0, 0, 0, ..., 1, 0, 0],\n",
              "       [0, 0, 0, ..., 0, 0, 1],\n",
              "       [0, 0, 0, ..., 0, 0, 0]], dtype=uint8)"
            ]
          },
          "metadata": {},
          "execution_count": 133
        }
      ]
    },
    {
      "cell_type": "code",
      "source": [
        "l"
      ],
      "metadata": {
        "colab": {
          "base_uri": "https://localhost:8080/"
        },
        "id": "coixbvW4XN8a",
        "outputId": "4dd7e776-1293-4c54-9b54-a2d0277ca943"
      },
      "execution_count": 134,
      "outputs": [
        {
          "output_type": "execute_result",
          "data": {
            "text/plain": [
              "array(['Yes', 'No', 'Yes', ..., 'No', 'No', 'No'], dtype=object)"
            ]
          },
          "metadata": {},
          "execution_count": 134
        }
      ]
    },
    {
      "cell_type": "code",
      "source": [
        "# Step 2: Divide data into training and test sets\n",
        "\n",
        "from sklearn.model_selection import train_test_split\n",
        "f_train, f_test, l_train, l_test = train_test_split(f, l, test_size=0.2, random_state=0)"
      ],
      "metadata": {
        "id": "cBqk9k1sVoZ7"
      },
      "execution_count": 135,
      "outputs": []
    },
    {
      "cell_type": "code",
      "source": [
        "# Step 3: Perform feature scaling. \n",
        "\n",
        "from sklearn.preprocessing import StandardScaler\n",
        "sc = StandardScaler()\n",
        "f_train = sc.fit_transform(f_train)\n",
        "f_test = sc.transform(f_test)"
      ],
      "metadata": {
        "id": "hiKt_trMV-ty"
      },
      "execution_count": 136,
      "outputs": []
    },
    {
      "cell_type": "code",
      "source": [
        "# Step 4: Peforming LDA\n",
        "# The LinearDiscriminantAnalysis class of the sklearn.discriminant_analysis \n",
        "# library can be used to Perform LDA in Python. \n",
        "\n",
        "from sklearn.discriminant_analysis import LinearDiscriminantAnalysis as LDA\n",
        "\n",
        "lda = LDA(n_components=1)\n",
        "f_train = lda.fit_transform(f_train, l_train)\n",
        "f_test = lda.transform(f_test)"
      ],
      "metadata": {
        "id": "X_lQOOZSWV69"
      },
      "execution_count": 141,
      "outputs": []
    },
    {
      "cell_type": "code",
      "source": [
        "# Step 5: Training and Making Predictions using the random forest classifier\n",
        "# to evaluate the performance of a PCA-reduced algorithms as shown\n",
        "\n",
        "from sklearn.ensemble import RandomForestClassifier\n",
        "\n",
        "classifier = RandomForestClassifier(max_depth=2, random_state=0)\n",
        "classifier.fit(f_train, l_train)\n",
        "y_pred = classifier.predict(f_test)"
      ],
      "metadata": {
        "id": "ERkFiIVGWzIe"
      },
      "execution_count": 142,
      "outputs": []
    },
    {
      "cell_type": "code",
      "source": [
        "# Step 8: Evaluating the Performance\n",
        "# As always, the last step is to evaluate performance of the algorithm \n",
        "# with the help of a confusion matrix and find the accuracy of the prediction.\n",
        "# \n",
        "\n",
        "from sklearn.metrics import confusion_matrix\n",
        "from sklearn.metrics import accuracy_score\n",
        "\n",
        "cm2 = confusion_matrix(l_test, y_pred)\n",
        "print(cm2)\n",
        "print('Accuracy' + str(accuracy_score(l_test, y_pred)))\n",
        "\n",
        "# The algorithm achieved an accuracy of 88.31%, which is a little bit higher than\n",
        "# the accuracy achieved with 26 principal component, which was 86.76%."
      ],
      "metadata": {
        "colab": {
          "base_uri": "https://localhost:8080/"
        },
        "id": "enpn_3dOYNFs",
        "outputId": "47e6208f-cd9c-4b04-c44f-8d717ef5b59c"
      },
      "execution_count": 145,
      "outputs": [
        {
          "output_type": "stream",
          "name": "stdout",
          "text": [
            "[[3955   53]\n",
            " [ 493  168]]\n",
            "Accuracy0.8830584707646177\n"
          ]
        }
      ]
    },
    {
      "cell_type": "markdown",
      "source": [
        "# 5.0 Challenging the solution"
      ],
      "metadata": {
        "id": "GSr8RRywcDfw"
      }
    },
    {
      "cell_type": "markdown",
      "source": [
        "# 5.1 Logistic Regression Analysis"
      ],
      "metadata": {
        "id": "b4jn-RZ8cU-e"
      }
    },
    {
      "cell_type": "code",
      "source": [
        "# Step 1\n",
        "# Training our regression model\n",
        "# First split up our data \n",
        "# into an X array that contains the features to train on, \n",
        "# and a y array with the target variable.\n",
        "\n",
        "\n",
        "A = finance3[['year','country_Kenya', 'country_Rwanda',\n",
        "       'country_Tanzania', 'country_Uganda', 'type_of_location_Rural',\n",
        "       'type_of_location_Urban', 'cell_phone_access_No',\n",
        "       'cell_phone_access_Yes', 'gender_of_respondent_Female',\n",
        "       'gender_of_respondent_Male', 'the_relationship_with_head_Child',\n",
        "       'the_relationship_with_head_Head of Household',\n",
        "       'the_relationship_with_head_Other non-relatives',\n",
        "       'the_relationship_with_head_Other relative',\n",
        "       'the_relationship_with_head_Parent',\n",
        "       'the_relationship_with_head_Spouse',\n",
        "       'marital_status_Divorced/Seperated', 'marital_status_Dont know',\n",
        "       'marital_status_Married/Living together',\n",
        "       'marital_status_Single/Never Married', 'marital_status_Widowed',\n",
        "       'level_of_education_6', 'level_of_education_No formal education',\n",
        "       'level_of_education_Other/Dont know/RTA',\n",
        "       'level_of_education_Primary education',\n",
        "       'level_of_education_Secondary education',\n",
        "       'level_of_education_Tertiary education',\n",
        "       'level_of_education_Vocational/Specialised training',\n",
        "       'type_of_job_Dont Know/Refuse to answer',\n",
        "       'type_of_job_Farming and Fishing',\n",
        "       'type_of_job_Formally employed Government',\n",
        "       'type_of_job_Formally employed Private',\n",
        "       'type_of_job_Government Dependent', 'type_of_job_Informally employed',\n",
        "       'type_of_job_No Income', 'type_of_job_Other Income',\n",
        "       'type_of_job_Remittance Dependent', 'type_of_job_Self employed']]\n",
        "B = finance3['has_a_bank_account']"
      ],
      "metadata": {
        "id": "IS_ApgAxYpsb"
      },
      "execution_count": 147,
      "outputs": []
    },
    {
      "cell_type": "code",
      "source": [
        "# Step 2: Splitting the data into training set and test set\n",
        "\n",
        "A_train, A_test, B_train, B_test = train_test_split(A,B,test_size = 0.2, random_state = 1)"
      ],
      "metadata": {
        "id": "tP6aGHY_ddit"
      },
      "execution_count": 148,
      "outputs": []
    },
    {
      "cell_type": "code",
      "source": [
        "# Step 3: Standardising the data\n",
        "\n",
        "from sklearn.preprocessing import StandardScaler\n",
        "sc = StandardScaler()\n",
        "A_train = sc.fit_transform(A_train)\n",
        "A_test = sc.transform(A_test)"
      ],
      "metadata": {
        "id": "G6iqdVc-dpOl"
      },
      "execution_count": 149,
      "outputs": []
    },
    {
      "cell_type": "code",
      "source": [
        "# Step 4: Applying LDA\n",
        "  \n",
        "from sklearn.discriminant_analysis import LinearDiscriminantAnalysis as LDA\n",
        "\n",
        "lda = LDA()\n",
        "A_train = lda.fit_transform(A_train, B_train)\n",
        "A_test = lda.transform(A_test)"
      ],
      "metadata": {
        "id": "Ek_5gtHPdvAV"
      },
      "execution_count": 150,
      "outputs": []
    },
    {
      "cell_type": "code",
      "source": [
        "# Step 5: Training and Making Predictions wih random forest classification classifier\n",
        "  \n",
        "from sklearn.linear_model import LogisticRegression\n",
        "\n",
        "classifier = LogisticRegression(random_state = 1)\n",
        "classifier.fit(A_train, B_train)"
      ],
      "metadata": {
        "colab": {
          "base_uri": "https://localhost:8080/"
        },
        "id": "bPl3CcTed0gl",
        "outputId": "33c037c1-b3f0-4832-8416-84c496e3c056"
      },
      "execution_count": 151,
      "outputs": [
        {
          "output_type": "execute_result",
          "data": {
            "text/plain": [
              "LogisticRegression(random_state=1)"
            ]
          },
          "metadata": {},
          "execution_count": 151
        }
      ]
    },
    {
      "cell_type": "code",
      "source": [
        "# Step 6: Predicting the Test set results\n",
        "\n",
        "B_pred = classifier.predict(A_test)"
      ],
      "metadata": {
        "id": "ubfi1aVOeBU1"
      },
      "execution_count": 152,
      "outputs": []
    },
    {
      "cell_type": "code",
      "source": [
        "# Step 7\n",
        "# Performing evaluation\n",
        "\n",
        "from sklearn.metrics import confusion_matrix\n",
        "from sklearn.metrics import accuracy_score\n",
        "conf = confusion_matrix(B_test, B_pred)\n",
        "score = accuracy_score(B_test, B_pred)\n",
        "print(conf)\n",
        "print(score)\n",
        "\n",
        "\n",
        "# Using LDA in our logistic regression model, the algorithm achieved an accuracy of 87.23%, "
      ],
      "metadata": {
        "colab": {
          "base_uri": "https://localhost:8080/"
        },
        "id": "Yi92wilneJUc",
        "outputId": "3eca164f-2875-4384-9ab7-e49bbfccee4d"
      },
      "execution_count": 153,
      "outputs": [
        {
          "output_type": "stream",
          "name": "stdout",
          "text": [
            "[[3874  116]\n",
            " [ 480  199]]\n",
            "0.8723495395159563\n"
          ]
        }
      ]
    }
  ]
}